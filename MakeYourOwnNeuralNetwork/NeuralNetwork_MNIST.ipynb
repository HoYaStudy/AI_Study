{
  "nbformat": 4,
  "nbformat_minor": 0,
  "metadata": {
    "colab": {
      "name": "NeuralNetwork_MNIST.ipynb",
      "provenance": [],
      "private_outputs": true,
      "collapsed_sections": []
    },
    "kernelspec": {
      "name": "python3",
      "display_name": "Python 3"
    }
  },
  "cells": [
    {
      "cell_type": "markdown",
      "metadata": {
        "id": "J-hJimAqSgOz",
        "colab_type": "text"
      },
      "source": [
        "## Import Module"
      ]
    },
    {
      "cell_type": "code",
      "metadata": {
        "id": "ZGE6HJBlXTs4",
        "colab_type": "code",
        "colab": {}
      },
      "source": [
        "import tensorflow as tf\n",
        "import numpy as np\n",
        "import scipy.special\n",
        "import matplotlib.pyplot as plt\n",
        "%matplotlib inline"
      ],
      "execution_count": 0,
      "outputs": []
    },
    {
      "cell_type": "markdown",
      "metadata": {
        "id": "imyaqDBKSi1U",
        "colab_type": "text"
      },
      "source": [
        "## Dataset"
      ]
    },
    {
      "cell_type": "code",
      "metadata": {
        "id": "BV49BrELSmM4",
        "colab_type": "code",
        "colab": {}
      },
      "source": [
        "mnist = tf.keras.datasets.mnist\n",
        "(x_train, y_train), (x_test, y_test) = mnist.load_data()"
      ],
      "execution_count": 0,
      "outputs": []
    },
    {
      "cell_type": "markdown",
      "metadata": {
        "id": "auefPLS6UJdz",
        "colab_type": "text"
      },
      "source": [
        "### Analyze Dataset"
      ]
    },
    {
      "cell_type": "code",
      "metadata": {
        "id": "OQnKKH06TU2R",
        "colab_type": "code",
        "colab": {}
      },
      "source": [
        "image = np.asfarray(x_train[0]).reshape((28, 28))\n",
        "plt.imshow(image, cmap='gray', interpolation='None')"
      ],
      "execution_count": 0,
      "outputs": []
    },
    {
      "cell_type": "markdown",
      "metadata": {
        "id": "l7J8lnVMU6S1",
        "colab_type": "text"
      },
      "source": [
        "## Model"
      ]
    },
    {
      "cell_type": "code",
      "metadata": {
        "id": "nepbmJE3VxwC",
        "colab_type": "code",
        "colab": {}
      },
      "source": [
        "class NeuralNetwork:\n",
        "    def __init__(self, input_nodes, hidden_nodes, output_nodes, learning_rate):\n",
        "        self.inodes = input_nodes\n",
        "        self.hnodes = hidden_nodes\n",
        "        self.onodes = output_nodes\n",
        "\n",
        "        self.wih = np.random.normal(0.0, pow(self.hnodes, -0.5), (self.hnodes, self.inodes))\n",
        "        self.who = np.random.normal(0.0, pow(self.onodes, -0.5), (self.onodes, self.hnodes))\n",
        "\n",
        "        self.lr = learning_rate\n",
        "\n",
        "        self.activation_function = lambda x: scipy.special.expit(x)\n",
        "    \n",
        "    def train(self, input_list, target_list):\n",
        "        inputs = np.array(input_list, ndmin=2).T\n",
        "        targets = np.array(target_list, ndmin=2).T\n",
        "\n",
        "        hidden_inputs = np.dot(self.wih, inputs)\n",
        "        hidden_outputs = self.activation_function(hidden_inputs)\n",
        "\n",
        "        final_inputs = np.dot(self.who, hidden_outputs)\n",
        "        final_outputs = self.activation_function(final_inputs)\n",
        "\n",
        "        output_errors = targets - final_outputs\n",
        "        hidden_errors = np.dot(self.who.T, output_errors)\n",
        "\n",
        "        self.who += self.lr * np.dot((output_errors * final_outputs * (1.0 - final_outputs)), np.transpose(hidden_outputs))\n",
        "        self.wih += self.lr * np.dot((hidden_errors * hidden_outputs * (1.0 - hidden_outputs)), np.transpose(inputs))\n",
        "    \n",
        "    def query(self, input_list):\n",
        "        inputs = np.array(input_list, ndmin=2).T\n",
        "\n",
        "        hidden_inputs = np.dot(self.wih, inputs)\n",
        "        hidden_outputs = self.activation_function(hidden_inputs)\n",
        "        \n",
        "        final_inputs = np.dot(self.who, hidden_outputs)\n",
        "        final_outputs = self.activation_function(final_inputs)\n",
        "\n",
        "        return final_outputs"
      ],
      "execution_count": 0,
      "outputs": []
    },
    {
      "cell_type": "markdown",
      "metadata": {
        "id": "V51skK-qVE42",
        "colab_type": "text"
      },
      "source": [
        "## Set Initial Parameter"
      ]
    },
    {
      "cell_type": "code",
      "metadata": {
        "id": "Guw2bYxqV5D-",
        "colab_type": "code",
        "colab": {}
      },
      "source": [
        "input_nodes = 784\n",
        "hidden_nodes = 200\n",
        "output_nodes = 10\n",
        "\n",
        "learning_rate = 0.1\n",
        "\n",
        "epochs = 5"
      ],
      "execution_count": 0,
      "outputs": []
    },
    {
      "cell_type": "markdown",
      "metadata": {
        "id": "U411u-uyWfJ6",
        "colab_type": "text"
      },
      "source": [
        "## Training"
      ]
    },
    {
      "cell_type": "code",
      "metadata": {
        "id": "3ZRrNK0nVKz0",
        "colab_type": "code",
        "colab": {}
      },
      "source": [
        "nn = NeuralNetwork(input_nodes, hidden_nodes, output_nodes, learning_rate)\n",
        "\n",
        "for e in range(epochs):\n",
        "    for i in range(len(x_train)):\n",
        "        input = np.asfarray(x_train[i]).flatten() / 255.0 * 0.99 + 0.01\n",
        "        target = np.zeros(output_nodes) + 0.01\n",
        "        target[int(y_train[i])] = 0.99\n",
        "        nn.train(input, target)"
      ],
      "execution_count": 0,
      "outputs": []
    },
    {
      "cell_type": "markdown",
      "metadata": {
        "id": "Y3AUg9fqX8CC",
        "colab_type": "text"
      },
      "source": [
        "## Test"
      ]
    },
    {
      "cell_type": "code",
      "metadata": {
        "id": "v2p2PFfGVZxL",
        "colab_type": "code",
        "colab": {}
      },
      "source": [
        "score_list = []\n",
        "for i in range(len(x_test)):\n",
        "    expected = int(y_test[i])\n",
        "    input = np.asfarray(x_test[i]).flatten() / 255.0 * 0.99 + 0.01\n",
        "    output = nn.query(input)\n",
        "    predicted = np.argmax(output)\n",
        "    if predicted == expected:\n",
        "        score_list.append(1)\n",
        "    else:\n",
        "        score_list.append(0)\n",
        "score_array = np.asarray(score_list)\n",
        "print(f\"Performance = {score_array.sum() / score_array.size}\")"
      ],
      "execution_count": 0,
      "outputs": []
    }
  ]
}