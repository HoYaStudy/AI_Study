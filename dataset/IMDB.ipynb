{
  "nbformat": 4,
  "nbformat_minor": 0,
  "metadata": {
    "colab": {
      "name": "IMDB.ipynb",
      "provenance": [],
      "private_outputs": true
    },
    "kernelspec": {
      "name": "python3",
      "display_name": "Python 3"
    }
  },
  "cells": [
    {
      "cell_type": "markdown",
      "metadata": {
        "id": "JXkJ4iONP_nB",
        "colab_type": "text"
      },
      "source": [
        "# IMDB Dataset"
      ]
    },
    {
      "cell_type": "markdown",
      "metadata": {
        "id": "FAn3xikEQFiA",
        "colab_type": "text"
      },
      "source": [
        "## Import Modules"
      ]
    },
    {
      "cell_type": "code",
      "metadata": {
        "id": "BtVjL9TJP892",
        "colab_type": "code",
        "colab": {}
      },
      "source": [
        "from tensorflow.keras.datasets import imdb"
      ],
      "execution_count": 0,
      "outputs": []
    },
    {
      "cell_type": "markdown",
      "metadata": {
        "id": "5o8jbIz5QJe0",
        "colab_type": "text"
      },
      "source": [
        "## Load Dataset"
      ]
    },
    {
      "cell_type": "code",
      "metadata": {
        "id": "mW3cwZ7YQJDl",
        "colab_type": "code",
        "colab": {}
      },
      "source": [
        "(train_data, train_label), (test_data, test_label) = imdb.load_data(num_words=10000)"
      ],
      "execution_count": 0,
      "outputs": []
    },
    {
      "cell_type": "markdown",
      "metadata": {
        "id": "pV6R265tQkJU",
        "colab_type": "text"
      },
      "source": [
        "## Analysis Dataset"
      ]
    },
    {
      "cell_type": "code",
      "metadata": {
        "id": "Y1b_WsPXQjKd",
        "colab_type": "code",
        "colab": {}
      },
      "source": [
        "print(train_data[0])    # Word index list\n",
        "print(train_label[0])   # 0: Negative, 1: Positive\n",
        "print(max([max(seq) for seq in train_data]))"
      ],
      "execution_count": 0,
      "outputs": []
    },
    {
      "cell_type": "markdown",
      "metadata": {
        "id": "K-OGvOzrRWzQ",
        "colab_type": "text"
      },
      "source": [
        "### Convert Data to String"
      ]
    },
    {
      "cell_type": "code",
      "metadata": {
        "id": "0SkP-tSyQvKB",
        "colab_type": "code",
        "colab": {}
      },
      "source": [
        "word_index = imdb.get_word_index()\n",
        "reverse_word_index = dict([(value, key) for (key, value) in word_index.items()])\n",
        "decoded_review = ' '.join([reverse_word_index.get(i - 3, '?') for i in train_data[0]])  # i - 3 => 0: Padding, 1: Start, 2: Not in dictionary\n",
        "print(decoded_review)"
      ],
      "execution_count": 0,
      "outputs": []
    }
  ]
}