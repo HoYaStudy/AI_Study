{
  "nbformat": 4,
  "nbformat_minor": 0,
  "metadata": {
    "colab": {
      "name": "Untitled0.ipynb",
      "provenance": [],
      "private_outputs": true
    },
    "kernelspec": {
      "name": "python3",
      "display_name": "Python 3"
    }
  },
  "cells": [
    {
      "cell_type": "markdown",
      "metadata": {
        "id": "U2941HWOlQC9",
        "colab_type": "text"
      },
      "source": [
        "# MNIST Dataset"
      ]
    },
    {
      "cell_type": "markdown",
      "metadata": {
        "id": "5UJUchf2lTQn",
        "colab_type": "text"
      },
      "source": [
        "## Import Modules"
      ]
    },
    {
      "cell_type": "code",
      "metadata": {
        "id": "IxEQ99MalLBZ",
        "colab_type": "code",
        "colab": {}
      },
      "source": [
        "import tensorflow as tf\n",
        "import numpy as np\n",
        "import matplotlib.pyplot as plt\n",
        "%matplotlib inline"
      ],
      "execution_count": 0,
      "outputs": []
    },
    {
      "cell_type": "markdown",
      "metadata": {
        "id": "38hpt_ArlapT",
        "colab_type": "text"
      },
      "source": [
        "## Load Dataset"
      ]
    },
    {
      "cell_type": "code",
      "metadata": {
        "id": "eQ6ZhLvZlbzT",
        "colab_type": "code",
        "colab": {}
      },
      "source": [
        "mnist = tf.keras.datasets.mnist\n",
        "(x_train, y_train), (x_test, y_test) = mnist.load_data()"
      ],
      "execution_count": 0,
      "outputs": []
    },
    {
      "cell_type": "markdown",
      "metadata": {
        "id": "ndHFYVf6lhOY",
        "colab_type": "text"
      },
      "source": [
        "## Analysis Dataset"
      ]
    },
    {
      "cell_type": "code",
      "metadata": {
        "id": "feMHslF2li12",
        "colab_type": "code",
        "colab": {}
      },
      "source": [
        "# Image\n",
        "image = np.asfarray(x_train[0]).reshape((28, 28))\n",
        "plt.imshow(image, cmap='gray', interpolation='None')"
      ],
      "execution_count": 0,
      "outputs": []
    },
    {
      "cell_type": "code",
      "metadata": {
        "id": "L26NYSBWlyf3",
        "colab_type": "code",
        "colab": {}
      },
      "source": [
        "# Label\n",
        "print(y_train[0])"
      ],
      "execution_count": 0,
      "outputs": []
    }
  ]
}