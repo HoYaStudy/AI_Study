{
  "nbformat": 4,
  "nbformat_minor": 0,
  "metadata": {
    "colab": {
      "name": "boston_housing.ipynb",
      "provenance": [],
      "private_outputs": true
    },
    "kernelspec": {
      "name": "python3",
      "display_name": "Python 3"
    }
  },
  "cells": [
    {
      "cell_type": "markdown",
      "metadata": {
        "id": "Kwu_iscoC0FW",
        "colab_type": "text"
      },
      "source": [
        "# Boston Housing Dataset"
      ]
    },
    {
      "cell_type": "markdown",
      "metadata": {
        "id": "dxLRtNmaC4ZO",
        "colab_type": "text"
      },
      "source": [
        "## Import Module"
      ]
    },
    {
      "cell_type": "code",
      "metadata": {
        "id": "ZUV7D1w9CuF3",
        "colab_type": "code",
        "colab": {}
      },
      "source": [
        "from tensorflow.keras.datasets import boston_housing"
      ],
      "execution_count": 0,
      "outputs": []
    },
    {
      "cell_type": "markdown",
      "metadata": {
        "id": "jcTeItNWC9C6",
        "colab_type": "text"
      },
      "source": [
        "## Load Dataset"
      ]
    },
    {
      "cell_type": "code",
      "metadata": {
        "id": "hC5KpoEMC8iz",
        "colab_type": "code",
        "colab": {}
      },
      "source": [
        "(train_data, train_targets), (test_data, test_targets) = boston_housing.load_data()"
      ],
      "execution_count": 0,
      "outputs": []
    },
    {
      "cell_type": "markdown",
      "metadata": {
        "id": "2qtCjeyMDJJ1",
        "colab_type": "text"
      },
      "source": [
        "## Analyze Dataset"
      ]
    },
    {
      "cell_type": "code",
      "metadata": {
        "id": "XrMF20teDIfX",
        "colab_type": "code",
        "colab": {}
      },
      "source": [
        "print(train_data.shape)     # Train sample with 13 feature\n",
        "print(test_data.shape)      # Test sample with 13 feature\n",
        "\n",
        "print(train_targets)        # House median price\n",
        "print(test_targets)         # House median price"
      ],
      "execution_count": 0,
      "outputs": []
    }
  ]
}