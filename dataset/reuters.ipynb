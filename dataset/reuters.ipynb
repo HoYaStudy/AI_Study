{
  "nbformat": 4,
  "nbformat_minor": 0,
  "metadata": {
    "colab": {
      "name": "reuters.ipynb",
      "provenance": [],
      "private_outputs": true,
      "collapsed_sections": []
    },
    "kernelspec": {
      "name": "python3",
      "display_name": "Python 3"
    }
  },
  "cells": [
    {
      "cell_type": "markdown",
      "metadata": {
        "id": "y-BocCR3gn3M",
        "colab_type": "text"
      },
      "source": [
        "# Reuter Dataset"
      ]
    },
    {
      "cell_type": "markdown",
      "metadata": {
        "id": "coleEdUigrB6",
        "colab_type": "text"
      },
      "source": [
        "## Import Module"
      ]
    },
    {
      "cell_type": "code",
      "metadata": {
        "id": "CmxT8CNWfq_L",
        "colab_type": "code",
        "colab": {}
      },
      "source": [
        "from tensorflow.keras.datasets import reuters"
      ],
      "execution_count": 0,
      "outputs": []
    },
    {
      "cell_type": "markdown",
      "metadata": {
        "id": "us7z9yEAguQR",
        "colab_type": "text"
      },
      "source": [
        "## Load Dataset"
      ]
    },
    {
      "cell_type": "code",
      "metadata": {
        "id": "BG_om9Digtyd",
        "colab_type": "code",
        "colab": {}
      },
      "source": [
        "(train_data, train_label), (test_data, test_label) = reuters.load_data(num_words=10000)"
      ],
      "execution_count": 0,
      "outputs": []
    },
    {
      "cell_type": "markdown",
      "metadata": {
        "id": "NfNwjWwrhvSF",
        "colab_type": "text"
      },
      "source": [
        "## Analyze Dataset"
      ]
    },
    {
      "cell_type": "code",
      "metadata": {
        "id": "vEuNs1HKhftb",
        "colab_type": "code",
        "colab": {}
      },
      "source": [
        "print(len(train_data))  # Word index list\n",
        "print(len(test_data))   # index 0~45 (46 topic)\n",
        "print(train_data[0])"
      ],
      "execution_count": 0,
      "outputs": []
    },
    {
      "cell_type": "markdown",
      "metadata": {
        "id": "0Aroua68iJVu",
        "colab_type": "text"
      },
      "source": [
        "### Convert Data to String"
      ]
    },
    {
      "cell_type": "code",
      "metadata": {
        "id": "Lr8aAo2bh6TO",
        "colab_type": "code",
        "colab": {}
      },
      "source": [
        "word_index = reuters.get_word_index()\n",
        "reverse_word_index = dict([(value, key) for (key, value) in word_index.items()])\n",
        "decoded_newswire = ' '.join([reverse_word_index.get(i - 3, '?') for i in train_data[0]])\n",
        "print(decoded_newswire)"
      ],
      "execution_count": 0,
      "outputs": []
    }
  ]
}