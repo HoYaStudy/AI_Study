{
  "nbformat": 4,
  "nbformat_minor": 0,
  "metadata": {
    "colab": {
      "name": "matplotlib",
      "provenance": [],
      "private_outputs": true,
      "collapsed_sections": [
        "3_aLj62T4aw2",
        "G7PQCvaN6D3g",
        "clgWkkGLTgwt",
        "dFQpVt2gWq_O",
        "2k5PKJ1AWYI2",
        "ZpbtsHQpYLJZ",
        "xfOSngsLY9cV",
        "FfwrAcx2aJYu",
        "USn7qpEgcFyd",
        "3EjLm6XoeL_Y",
        "rC-o1PBwe_td",
        "PFlUwYIu99mr",
        "4XqpAfYI_MOU",
        "mshOPRTx_X2y",
        "3xnEhN_o_qnB",
        "lAW3L792AqEq",
        "BSslcGqjBnLf"
      ]
    },
    "kernelspec": {
      "name": "python3",
      "display_name": "Python 3"
    }
  },
  "cells": [
    {
      "cell_type": "markdown",
      "metadata": {
        "id": "3_aLj62T4aw2",
        "colab_type": "text"
      },
      "source": [
        "# Import Modules"
      ]
    },
    {
      "cell_type": "code",
      "metadata": {
        "id": "gTyqtwfb4D-B",
        "colab_type": "code",
        "colab": {}
      },
      "source": [
        "import numpy as np\n",
        "import matplotlib.pyplot as plt\n",
        "from PIL import Image\n",
        "import cv2\n",
        "%matplotlib inline"
      ],
      "execution_count": 0,
      "outputs": []
    },
    {
      "cell_type": "markdown",
      "metadata": {
        "id": "G7PQCvaN6D3g",
        "colab_type": "text"
      },
      "source": [
        "# Test Data"
      ]
    },
    {
      "cell_type": "code",
      "metadata": {
        "id": "lnOn2p7b4kLs",
        "colab_type": "code",
        "colab": {}
      },
      "source": [
        "data = np.random.randn(50).cumsum()\n",
        "hist_data = np.random.randn(100)\n",
        "scatter_data = np.arange(30)\n",
        "\n",
        "img1_path = './img1.JPG'\n",
        "img1_pil = Image.open(img1_path)\n",
        "img1 = np.array(img1_pil)\n",
        "\n",
        "img2_path = './img2.JPG'\n",
        "img2_pil = Image.open(img2_path)\n",
        "img2 = np.array(img2_pil)"
      ],
      "execution_count": 0,
      "outputs": []
    },
    {
      "cell_type": "markdown",
      "metadata": {
        "id": "clgWkkGLTgwt",
        "colab_type": "text"
      },
      "source": [
        "# Draw Graph"
      ]
    },
    {
      "cell_type": "markdown",
      "metadata": {
        "id": "dFQpVt2gWq_O",
        "colab_type": "text"
      },
      "source": [
        "## Draw Default Graph\n"
      ]
    },
    {
      "cell_type": "code",
      "metadata": {
        "id": "TwnFgRfYThGL",
        "colab_type": "code",
        "colab": {}
      },
      "source": [
        "plt.plot(data)\n",
        "plt.show()"
      ],
      "execution_count": 0,
      "outputs": []
    },
    {
      "cell_type": "markdown",
      "metadata": {
        "id": "2k5PKJ1AWYI2",
        "colab_type": "text"
      },
      "source": [
        "## Draw Multiple Graph"
      ]
    },
    {
      "cell_type": "code",
      "metadata": {
        "id": "fRgINsTvVpgd",
        "colab_type": "code",
        "colab": {}
      },
      "source": [
        "# plt.subplot(row, column, index)\n",
        "plt.subplot(1, 2, 1)\n",
        "plt.hist(histo_data, bins=20)\n",
        "\n",
        "plt.subplot(1, 2, 2)\n",
        "plt.scatter(scatter_data, np.arange(30) + 3 * np.random.randn(30))\n",
        "\n",
        "plt.show()"
      ],
      "execution_count": 0,
      "outputs": []
    },
    {
      "cell_type": "markdown",
      "metadata": {
        "id": "ZpbtsHQpYLJZ",
        "colab_type": "text"
      },
      "source": [
        "## Draw Colorful Graph\n",
        "\n",
        "* `b`(blue)\n",
        "* `c`(cyan)\n",
        "* `g`(green)\n",
        "* `k`(black)\n",
        "* `r`(red)\n",
        "* `w`(white)\n",
        "* `y`(yellow)"
      ]
    },
    {
      "cell_type": "code",
      "metadata": {
        "id": "2Yp5FpFuWf4L",
        "colab_type": "code",
        "colab": {}
      },
      "source": [
        "plt.subplot(1, 3, 1)\n",
        "plt.plot(data)\n",
        "\n",
        "plt.subplot(1, 3, 2)\n",
        "plt.plot(data, 'r')\n",
        "\n",
        "plt.subplot(1, 3, 3)\n",
        "plt.plot(data, 'g')\n",
        "\n",
        "plt.show()"
      ],
      "execution_count": 0,
      "outputs": []
    },
    {
      "cell_type": "markdown",
      "metadata": {
        "id": "xfOSngsLY9cV",
        "colab_type": "text"
      },
      "source": [
        "## Draw Marker Graph\n",
        "\n",
        "* `o` (circle)\n",
        "* `s` (rectangle)\n",
        "* `^` (triangle)\n",
        "* `v` (inverted triangle)\n",
        "* `+` (plus symbol)\n",
        "* `.` (dot)"
      ]
    },
    {
      "cell_type": "code",
      "metadata": {
        "id": "rBwIuZ4iYX5X",
        "colab_type": "code",
        "colab": {}
      },
      "source": [
        "plt.subplot(1, 3, 1)\n",
        "plt.plot(data, 'o')\n",
        "\n",
        "plt.subplot(1, 3, 2)\n",
        "plt.plot(data, 'r+')\n",
        "\n",
        "plt.subplot(1, 3, 3)\n",
        "plt.plot(data, 'g^')\n",
        "\n",
        "plt.show()"
      ],
      "execution_count": 0,
      "outputs": []
    },
    {
      "cell_type": "markdown",
      "metadata": {
        "id": "FfwrAcx2aJYu",
        "colab_type": "text"
      },
      "source": [
        "## Draw Graph with Specific Size"
      ]
    },
    {
      "cell_type": "code",
      "metadata": {
        "id": "kU2yGmoJZ9zn",
        "colab_type": "code",
        "colab": {}
      },
      "source": [
        "# plt.figure(figsize=(width, height))  => Unit of Inch\n",
        "plt.figure(figsize=(5, 3))\n",
        "plt.plot(data, 'k+')\n",
        "plt.show()"
      ],
      "execution_count": 0,
      "outputs": []
    },
    {
      "cell_type": "code",
      "metadata": {
        "id": "aOJce0zdasjZ",
        "colab_type": "code",
        "colab": {}
      },
      "source": [
        "plt.figure(figsize=(10, 3))\n",
        "\n",
        "plt.subplot(1, 2, 1)\n",
        "plt.hist(histo_data, bins=20)\n",
        "\n",
        "plt.subplot(1, 2, 2)\n",
        "plt.scatter(scatter_data, np.arange(30) + 3 * np.random.randn(30))\n",
        "\n",
        "plt.show()"
      ],
      "execution_count": 0,
      "outputs": []
    },
    {
      "cell_type": "markdown",
      "metadata": {
        "id": "USn7qpEgcFyd",
        "colab_type": "text"
      },
      "source": [
        "## Draw Multiple Overlapped Graph with Legend"
      ]
    },
    {
      "cell_type": "code",
      "metadata": {
        "id": "NJ22tNVdb4UK",
        "colab_type": "code",
        "colab": {}
      },
      "source": [
        "plt.figure(figsize=(20, 5))\n",
        "plt.plot(hist_data, 'r-', drawstyle='steps-post', label='Label1')\n",
        "plt.plot(hist_data, 'g--', label='Label2')\n",
        "plt.plot(hist_data, 'bv', label='Label3')\n",
        "plt.legend()\n",
        "plt.show()"
      ],
      "execution_count": 0,
      "outputs": []
    },
    {
      "cell_type": "markdown",
      "metadata": {
        "id": "3EjLm6XoeL_Y",
        "colab_type": "text"
      },
      "source": [
        "## Draw Graph with Name"
      ]
    },
    {
      "cell_type": "code",
      "metadata": {
        "id": "LhAcZZDNdBmH",
        "colab_type": "code",
        "colab": {}
      },
      "source": [
        "plt.title('Draw Data')\n",
        "plt.xlabel('This is X axis')\n",
        "plt.ylabel('This is Y axis')\n",
        "plt.plot(data)\n",
        "plt.show()"
      ],
      "execution_count": 0,
      "outputs": []
    },
    {
      "cell_type": "markdown",
      "metadata": {
        "id": "rC-o1PBwe_td",
        "colab_type": "text"
      },
      "source": [
        "# Save Graph"
      ]
    },
    {
      "cell_type": "code",
      "metadata": {
        "id": "btaNz5a8eciB",
        "colab_type": "code",
        "colab": {}
      },
      "source": [
        "plt.savefig('graph.svg')"
      ],
      "execution_count": 0,
      "outputs": []
    },
    {
      "cell_type": "markdown",
      "metadata": {
        "id": "PFlUwYIu99mr",
        "colab_type": "text"
      },
      "source": [
        "# Draw Image"
      ]
    },
    {
      "cell_type": "markdown",
      "metadata": {
        "id": "4XqpAfYI_MOU",
        "colab_type": "text"
      },
      "source": [
        "## Draw Histogram of Image"
      ]
    },
    {
      "cell_type": "code",
      "metadata": {
        "id": "3a3Zi3HgfEIY",
        "colab_type": "code",
        "colab": {}
      },
      "source": [
        "plt.hist(img1.ravel(), 256, [0, 256])\n",
        "plt.show()"
      ],
      "execution_count": 0,
      "outputs": []
    },
    {
      "cell_type": "markdown",
      "metadata": {
        "id": "mshOPRTx_X2y",
        "colab_type": "text"
      },
      "source": [
        "## Draw Image"
      ]
    },
    {
      "cell_type": "code",
      "metadata": {
        "id": "CMr1dn7UiioX",
        "colab_type": "code",
        "colab": {}
      },
      "source": [
        "plt.imshow(img1)\n",
        "plt.show()"
      ],
      "execution_count": 0,
      "outputs": []
    },
    {
      "cell_type": "markdown",
      "metadata": {
        "id": "3xnEhN_o_qnB",
        "colab_type": "text"
      },
      "source": [
        "## Draw Image by Gray Scale"
      ]
    },
    {
      "cell_type": "code",
      "metadata": {
        "id": "YWSs5MiE_aLk",
        "colab_type": "code",
        "colab": {}
      },
      "source": [
        "img_bw_pil = Image.open(img1_path).convert('L')\n",
        "img_bw = np.array(img_bw_pil)\n",
        "\n",
        "plt.figure(figsize=(10, 3))\n",
        "\n",
        "plt.subplot(141)\n",
        "plt.imshow(img_bw)\n",
        "\n",
        "plt.subplot(142)\n",
        "plt.imshow(img_bw, 'gray')\n",
        "\n",
        "plt.subplot(143)\n",
        "plt.imshow(img_bw, 'RdBu')\n",
        "\n",
        "plt.subplot(144)\n",
        "plt.imshow(img_bw, 'jet')\n",
        "\n",
        "plt.show()"
      ],
      "execution_count": 0,
      "outputs": []
    },
    {
      "cell_type": "markdown",
      "metadata": {
        "id": "lAW3L792AqEq",
        "colab_type": "text"
      },
      "source": [
        "## Draw Image with Colorbar"
      ]
    },
    {
      "cell_type": "code",
      "metadata": {
        "id": "80Gp_BsTAAcV",
        "colab_type": "code",
        "colab": {}
      },
      "source": [
        "plt.title('Image 1')\n",
        "plt.imshow(img_bw, 'jet')\n",
        "plt.colorbar()\n",
        "plt.show()"
      ],
      "execution_count": 0,
      "outputs": []
    },
    {
      "cell_type": "markdown",
      "metadata": {
        "id": "BSslcGqjBnLf",
        "colab_type": "text"
      },
      "source": [
        "## Draw Merged Image"
      ]
    },
    {
      "cell_type": "code",
      "metadata": {
        "id": "vvHBL1ZoBczA",
        "colab_type": "code",
        "colab": {}
      },
      "source": [
        "img1_convert = cv2.resize(img1, (300, 400))\n",
        "img2_convert = cv2.resize(img2, (300, 400))\n",
        "\n",
        "plt.imshow(img1_convert)\n",
        "plt.imshow(img2_convert, alpha=0.5)\n",
        "plt.show()"
      ],
      "execution_count": 0,
      "outputs": []
    }
  ]
}