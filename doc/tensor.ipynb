{
  "nbformat": 4,
  "nbformat_minor": 0,
  "metadata": {
    "colab": {
      "name": "tensor",
      "provenance": [],
      "private_outputs": true,
      "collapsed_sections": []
    },
    "kernelspec": {
      "name": "python3",
      "display_name": "Python 3"
    }
  },
  "cells": [
    {
      "cell_type": "markdown",
      "metadata": {
        "id": "yWR4A11-6CfQ",
        "colab_type": "text"
      },
      "source": [
        "`tensor`는 data를 위한 container이다. 또, 임의의 차원 개수를 가지는 행렬의 일반화된 모습이다.\n",
        "\n",
        "tensor에서는 dimension을 종종 axis라고 부른다.\n",
        "\n",
        "tensor의 axis의 개수를 rank라고도 부른다.\n",
        "\n",
        "DeepLearning에서는 보통 0D ~ 4D까지의 tensor를 다루고, 동영상 data를 다룰 경우에는 5D tensor까지 쓰기도 한다."
      ]
    },
    {
      "cell_type": "markdown",
      "metadata": {
        "id": "6gf5N3z68mVO",
        "colab_type": "text"
      },
      "source": [
        "## Property\n",
        "\n",
        "Tensor는 3개의 핵심 속성으로 정의된다.\n",
        "\n",
        "* `Rank`: Axis의 개수\n",
        "    + numpy의 ndim으로 확인 가능\n",
        "* `Shape`: Tensor의 각 axis를 따라 얼마나 많은 dimension이 있는지를 나타낸 python의 tuple\n",
        "    + numpy의 shape으로 확인 가능\n",
        "* `Data type`: Tensor에 포함된 data의 type\n",
        "    + numpy의 dtype으로 확인 가능"
      ]
    },
    {
      "cell_type": "code",
      "metadata": {
        "id": "DoA_Tix86vxU",
        "colab_type": "code",
        "colab": {}
      },
      "source": [
        "import numpy as np"
      ],
      "execution_count": 0,
      "outputs": []
    },
    {
      "cell_type": "markdown",
      "metadata": {
        "id": "fwjvM_-p6ULe",
        "colab_type": "text"
      },
      "source": [
        "## 0D Tensor (Scalar)\n",
        "\n",
        "하나의 data만 담고 있는 tensor를 `scalar` 또는 `0D tensor`라고 부른다."
      ]
    },
    {
      "cell_type": "code",
      "metadata": {
        "id": "HH9fa5Ks39aF",
        "colab_type": "code",
        "colab": {}
      },
      "source": [
        "x = np.array(1)\n",
        "print(x.ndim)\n",
        "print(x.shape)\n",
        "print(x.dtype)"
      ],
      "execution_count": 0,
      "outputs": []
    },
    {
      "cell_type": "markdown",
      "metadata": {
        "id": "DqSaT1Da65MO",
        "colab_type": "text"
      },
      "source": [
        "## 1D Tensor (Vector)\n",
        "\n",
        "Data의 배열을 `vector` 또는 `1D tensor`라고 부른다."
      ]
    },
    {
      "cell_type": "code",
      "metadata": {
        "id": "QSS4u64l63fp",
        "colab_type": "code",
        "colab": {}
      },
      "source": [
        "x = np.array([1, 2, 3, 4, 5])\n",
        "print(x.ndim)\n",
        "print(x.shape)\n",
        "print(x.dtype)"
      ],
      "execution_count": 0,
      "outputs": []
    },
    {
      "cell_type": "markdown",
      "metadata": {
        "id": "d-S951mt72lG",
        "colab_type": "text"
      },
      "source": [
        "## 2D Tensor (Matrix)\n",
        "\n",
        "Vector의 배열을 `matrix` 또는 `2D tensor`라고 부른다."
      ]
    },
    {
      "cell_type": "code",
      "metadata": {
        "id": "PU-pbcXF7l-c",
        "colab_type": "code",
        "colab": {}
      },
      "source": [
        "x = np.array([[11, 12, 13, 14, 15],\n",
        "              [21, 22, 23, 24, 25],\n",
        "              [31, 32, 33, 34, 35]])\n",
        "print(x.ndim)\n",
        "print(x.shape)\n",
        "print(x.dtype)"
      ],
      "execution_count": 0,
      "outputs": []
    },
    {
      "cell_type": "markdown",
      "metadata": {
        "id": "5AgMvNjdecSq",
        "colab_type": "text"
      },
      "source": [
        "## Usage Example\n",
        "\n",
        "* 2D Tensor: Vector data\n",
        "    + (samples, features)\n",
        "* 3D Tensor: 시계열 data or Sequence data\n",
        "    + (samples, timesteps, features)\n",
        "* 4D Tensor: Image data\n",
        "    + (samples, height, width, channels)     \n",
        "    + (samples, channels, height, width)\n",
        "* 5D Tensor: 동영상 data\n",
        "    + (samples, frames, height, width, channels)\n",
        "    + (samples, frames, channels, height, width)"
      ]
    }
  ]
}