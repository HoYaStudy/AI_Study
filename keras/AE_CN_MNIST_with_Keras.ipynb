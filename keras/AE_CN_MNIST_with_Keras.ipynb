{
  "cells": [
    {
      "cell_type": "code",
      "execution_count": null,
      "metadata": {
        "id": "FQgYC3xDYleW"
      },
      "outputs": [],
      "source": [
        "from keras import backend, layers, models, utils\n",
        "from keras.datasets import mnist\n",
        "import numpy as np\n",
        "import matplotlib.pyplot as plt"
      ]
    },
    {
      "cell_type": "markdown",
      "metadata": {
        "id": "Cj1yTjYRjE3f"
      },
      "source": [
        "# 분산 방식 Modeling - OOP"
      ]
    },
    {
      "cell_type": "code",
      "execution_count": null,
      "metadata": {
        "id": "tnmafOFdjIGx"
      },
      "outputs": [],
      "source": [
        "def Conv2D(filters, kernel_size, padding='same', activation='relu'):\n",
        "    return layers.Conv2D(filters, kernel_size, padding=padding, activation=activation)\n",
        "\n",
        "class AE_Model_OOP(models.Model):\n",
        "    def __init__(self, org_shape=(1, 28, 28)):\n",
        "        original = layers.Input(shape=org_shape)\n",
        "\n",
        "        x = Conv2D(4, (3, 3))(original)\n",
        "        x = layers.MaxPooling2D((2, 2), padding='same')(x)\n",
        "\n",
        "        x = Conv2D(8, (3, 3))(x)\n",
        "        x = layers.MaxPooling2D((2, 2), padding='same')(x)\n",
        "\n",
        "        z = Conv2D(1, (7, 7))(x)\n",
        "\n",
        "        y = Conv2D(16, (3, 3))(z)\n",
        "        y = layers.UpSampling2D((2, 2))(y)\n",
        "\n",
        "        y = Conv2D(8, (3, 3))(y)\n",
        "        y = layers.UpSampling2D((2, 2))(y)\n",
        "\n",
        "        y = Conv2D(4, (3, 3))(y)\n",
        "\n",
        "        decoded = Conv2D(1, (3, 3), activation='sigmoid')(y)\n",
        "\n",
        "        super().__init__(original, decoded)\n",
        "\n",
        "        self.compile(optimizer='adadelta', loss='binary_crossentropy', metrics=['accuracy'])"
      ]
    },
    {
      "cell_type": "markdown",
      "metadata": {
        "id": "XYyAHNT3ivpX"
      },
      "source": [
        "# Data - MNIST"
      ]
    },
    {
      "cell_type": "code",
      "execution_count": null,
      "metadata": {
        "id": "PqEMy900iu3u"
      },
      "outputs": [],
      "source": [
        "class Data_MNIST():\n",
        "    def __init__(self):\n",
        "        num_classes = 10\n",
        "\n",
        "        (x_train, y_train), (x_test, y_test) = mnist.load_data()\n",
        "        img_rows, img_cols = x_train.shape[1:]\n",
        "\n",
        "        if backend.image_data_format() == 'channels_first':\n",
        "            x_train = x_train.reshape(x_train.shape[0], 1, img_rows, img_cols)\n",
        "            x_test = x_test.reshape(x_test.shape[0], 1, img_rows, img_cols)\n",
        "            input_shape = (1, img_rows, img_cols)\n",
        "        else:\n",
        "            x_train = x_train.reshape(x_train.shape[0], img_rows, img_cols, 1)\n",
        "            x_test = x_test.reshape(x_test.shape[0], img_rows, img_cols, 1)\n",
        "            input_shape = (img_rows, img_cols, 1)\n",
        "\n",
        "        x_train = x_train.astype('float32')\n",
        "        x_test = x_test.astype('float32')\n",
        "        x_train /= 255\n",
        "        x_test /= 255\n",
        "\n",
        "        y_train = utils.to_categorical(y_train, num_classes)\n",
        "        y_test = utils.to_categorical(y_test, num_classes)\n",
        "\n",
        "        self.input_shape = input_shape\n",
        "        self.num_classes = num_classes\n",
        "        self.x_train, self.y_train = x_train, y_train\n",
        "        self.x_test, self.y_test = x_test, y_test"
      ]
    },
    {
      "cell_type": "markdown",
      "metadata": {},
      "source": [
        "# Training and Evaluation"
      ]
    },
    {
      "cell_type": "code",
      "execution_count": null,
      "metadata": {},
      "outputs": [],
      "source": [
        "def show_ae(autoencoder, data):\n",
        "    decoded_imgs = autoencoder.predict(data.x_test)\n",
        "    if backend.image_data_format() == 'channels_first':\n",
        "        n, n_ch, n_i, n_j = data.x_test.shape\n",
        "    else:\n",
        "        n, n_i, n_j, n_ch = data.x_test.shape\n",
        "\n",
        "    data.x_test = data.x_test.reshape(n, n_i, n_j)\n",
        "    decoded_imgs = decoded_imgs.reshape(decoded_imgs.shape[0], n_i, n_j)\n",
        "\n",
        "    n = 10\n",
        "    plt.figure(figsize=(20, 4))\n",
        "    for i in range(n):\n",
        "        ax = plt.subplot(2, n, i + 1)\n",
        "        plt.imshow(data.x_test[i], cmap='gray')\n",
        "        ax.get_xaxis().set_visible(False)\n",
        "        ax.get_yaxis().set_visible(False)\n",
        "\n",
        "        ax = plt.subplot(2, n, i + 1 + n)\n",
        "        plt.imshow(decoded_imgs[i], cmap='gray')\n",
        "        ax.get_xaxis().set_visible(False)\n",
        "        ax.get_yaxis().set_visible(False)\n",
        "    plt.show()"
      ]
    },
    {
      "cell_type": "markdown",
      "metadata": {},
      "source": [
        "# Draw Result"
      ]
    },
    {
      "cell_type": "code",
      "execution_count": null,
      "metadata": {},
      "outputs": [],
      "source": [
        "def plot_loss(history, title=None):\n",
        "    if not isinstance(history, dict):\n",
        "        history = history.history\n",
        "\n",
        "    plt.plot(history['loss'])\n",
        "    plt.plot(history['val_loss'])\n",
        "    if title is not None:\n",
        "        plt.title(title)\n",
        "    plt.xlabel('Epoch')\n",
        "    plt.ylabel('Loss')\n",
        "    plt.legend(['Training', 'Validation'], loc=0)\n",
        "    plt.show()\n",
        "\n",
        "def plot_acc(history, title=None):\n",
        "    if not isinstance(history, dict):\n",
        "        history = history.history\n",
        "\n",
        "    plt.plot(history['accuracy'])\n",
        "    plt.plot(history['val_accuracy'])\n",
        "    if title is not None:\n",
        "        plt.title(title)\n",
        "    plt.xlabel('Epoch')\n",
        "    plt.ylabel('Accuracy')\n",
        "    plt.legend(['Training', 'Validation'], loc=0)\n",
        "    plt.show()"
      ]
    },
    {
      "cell_type": "markdown",
      "metadata": {
        "id": "2rJMDwQ8liws"
      },
      "source": [
        "# Usage"
      ]
    },
    {
      "cell_type": "code",
      "execution_count": null,
      "metadata": {
        "id": "7Gu08PCjljw7"
      },
      "outputs": [],
      "source": [
        "EPOCHS = 20\n",
        "BATCH_SIZE = 128\n",
        "\n",
        "data = Data_MNIST()\n",
        "autoencoder = AE_Model_OOP(data.input_shape)\n",
        "history = autoencoder.fit(data.x_train, data.x_train, epochs=EPOCHS, batch_size=BATCH_SIZE, shuffle=True, validation_split=0.2)\n",
        "\n",
        "plot_acc(history)\n",
        "plot_loss(history)\n",
        "show_ae(autoencoder, data)"
      ]
    }
  ],
  "metadata": {
    "colab": {
      "collapsed_sections": [],
      "name": "ANN.ipynb",
      "private_outputs": true,
      "provenance": []
    },
    "kernelspec": {
      "display_name": "Python 3.9.6 ('.venv': venv)",
      "language": "python",
      "name": "python3"
    },
    "language_info": {
      "codemirror_mode": {
        "name": "ipython",
        "version": 3
      },
      "file_extension": ".py",
      "mimetype": "text/x-python",
      "name": "python",
      "nbconvert_exporter": "python",
      "pygments_lexer": "ipython3",
      "version": "3.9.6"
    },
    "vscode": {
      "interpreter": {
        "hash": "27640c38ce2adddea55846e439bfdf3cf133fd1f7141848aed330a8836e8eaec"
      }
    }
  },
  "nbformat": 4,
  "nbformat_minor": 0
}
