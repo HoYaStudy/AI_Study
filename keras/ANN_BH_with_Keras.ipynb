{
  "cells": [
    {
      "cell_type": "code",
      "execution_count": null,
      "metadata": {
        "id": "FQgYC3xDYleW"
      },
      "outputs": [],
      "source": [
        "from keras import layers, models\n",
        "from keras.datasets import boston_housing\n",
        "from sklearn import preprocessing\n",
        "import matplotlib.pyplot as plt"
      ]
    },
    {
      "cell_type": "markdown",
      "metadata": {
        "id": "aAJ68HBSh-sj"
      },
      "source": [
        "# 분산 방식 Modeling - OOP"
      ]
    },
    {
      "cell_type": "code",
      "execution_count": null,
      "metadata": {
        "id": "mt360k0hiDBT"
      },
      "outputs": [],
      "source": [
        "class ANN_model_OOP(models.Model):\n",
        "    def __init__(self, N_in, N_h, N_out):\n",
        "        hidden = layers.Dense(N_h)\n",
        "        output = layers.Dense(N_out)\n",
        "        relu = layers.Activation('relu')\n",
        "\n",
        "        x = layers.Input(shape=(N_in,))\n",
        "        h = relu(hidden(x))\n",
        "        y = output(h)\n",
        "\n",
        "        super().__init__(x, y)\n",
        "        self.compile(loss='mse', optimizer='sgd')"
      ]
    },
    {
      "cell_type": "markdown",
      "metadata": {
        "id": "XYyAHNT3ivpX"
      },
      "source": [
        "# Data - Boston Housing"
      ]
    },
    {
      "cell_type": "code",
      "execution_count": null,
      "metadata": {
        "id": "PqEMy900iu3u"
      },
      "outputs": [],
      "source": [
        "def data_bh():\n",
        "    (X_train, Y_train), (X_test, Y_test) = boston_housing.load_data()\n",
        "    \n",
        "    scaler = preprocessing.MinMaxScaler()\n",
        "    X_train = scaler.fit_transform(X_train)\n",
        "    X_test = scaler.transform(X_test)\n",
        "\n",
        "    return (X_train, Y_train), (X_test, Y_test)"
      ]
    },
    {
      "cell_type": "markdown",
      "metadata": {
        "id": "XSSAqJg3kpSY"
      },
      "source": [
        "# Draw Result"
      ]
    },
    {
      "cell_type": "code",
      "execution_count": null,
      "metadata": {
        "id": "jdnfV6vUkq7h"
      },
      "outputs": [],
      "source": [
        "def plot_loss(history, title=None):\n",
        "    if not isinstance(history, dict):\n",
        "        history = history.history\n",
        "\n",
        "    plt.plot(history['loss'])\n",
        "    plt.plot(history['val_loss'])\n",
        "    if title is not None:\n",
        "        plt.title(title)\n",
        "    plt.xlabel('Epoch')\n",
        "    plt.ylabel('Loss')\n",
        "    plt.legend(['Training', 'Validation'], loc=0)"
      ]
    },
    {
      "cell_type": "markdown",
      "metadata": {
        "id": "2rJMDwQ8liws"
      },
      "source": [
        "# Usage"
      ]
    },
    {
      "cell_type": "code",
      "execution_count": null,
      "metadata": {
        "id": "7Gu08PCjljw7"
      },
      "outputs": [],
      "source": [
        "N_in = 13\n",
        "N_h = 5\n",
        "N_out = 1\n",
        "\n",
        "model = ANN_model_OOP(N_in, N_h, N_out)\n",
        "\n",
        "(X_train, Y_train), (X_test, Y_test) = data_bh()\n",
        "\n",
        "history = model.fit(X_train, Y_train, epochs=100, batch_size=100, validation_split=0.2, verbose=2)\n",
        "\n",
        "performance = model.evaluate(X_test, Y_test, batch_size=100)\n",
        "print(f\"Test Loss -> {performance:.2f}\")\n",
        "\n",
        "plot_loss(history)\n",
        "plt.show()"
      ]
    }
  ],
  "metadata": {
    "colab": {
      "collapsed_sections": [],
      "name": "ANN.ipynb",
      "private_outputs": true,
      "provenance": []
    },
    "kernelspec": {
      "display_name": "Python 3.9.6 ('.venv': venv)",
      "language": "python",
      "name": "python3"
    },
    "language_info": {
      "codemirror_mode": {
        "name": "ipython",
        "version": 3
      },
      "file_extension": ".py",
      "mimetype": "text/x-python",
      "name": "python",
      "nbconvert_exporter": "python",
      "pygments_lexer": "ipython3",
      "version": "3.9.6"
    },
    "vscode": {
      "interpreter": {
        "hash": "27640c38ce2adddea55846e439bfdf3cf133fd1f7141848aed330a8836e8eaec"
      }
    }
  },
  "nbformat": 4,
  "nbformat_minor": 0
}
