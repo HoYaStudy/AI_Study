{
  "nbformat": 4,
  "nbformat_minor": 0,
  "metadata": {
    "colab": {
      "name": "CNN_CIFAR10_with_Keras.ipynb",
      "provenance": [],
      "private_outputs": true,
      "collapsed_sections": [
        "dfNeD3z0zEKE",
        "2sgPoN-szDzO",
        "qUrtfuGQCZCT",
        "I00Vls4kKsVX",
        "0pAyQ8IcOpJA",
        "UYAD11WePwTu"
      ]
    },
    "kernelspec": {
      "name": "python3",
      "display_name": "Python 3"
    },
    "accelerator": "GPU"
  },
  "cells": [
    {
      "cell_type": "markdown",
      "metadata": {
        "id": "dfNeD3z0zEKE"
      },
      "source": [
        "# Import Module"
      ]
    },
    {
      "cell_type": "code",
      "metadata": {
        "id": "8gGbADJwy-5n"
      },
      "source": [
        "from keras.datasets import cifar10\n",
        "from keras.models import Sequential\n",
        "from keras.layers import Conv2D, MaxPool2D, Dropout, Flatten, Dense\n",
        "from keras.optimizers import Adam\n",
        "from keras.utils import to_categorical\n",
        "import numpy as np\n",
        "import matplotlib.pyplot as plt\n",
        "%matplotlib inline"
      ],
      "execution_count": null,
      "outputs": []
    },
    {
      "cell_type": "markdown",
      "metadata": {
        "id": "2sgPoN-szDzO"
      },
      "source": [
        "# Input Dataset"
      ]
    },
    {
      "cell_type": "markdown",
      "metadata": {
        "id": "k3PTepjk8NK6"
      },
      "source": [
        "## Getting Dataset"
      ]
    },
    {
      "cell_type": "code",
      "metadata": {
        "id": "z5vye9H28Opm"
      },
      "source": [
        "(train_images, train_labels), (test_images, test_labels) = cifar10.load_data()"
      ],
      "execution_count": null,
      "outputs": []
    },
    {
      "cell_type": "markdown",
      "metadata": {
        "id": "0HJi5EQK9nz4"
      },
      "source": [
        "## Analyzing Dataset (Original)"
      ]
    },
    {
      "cell_type": "code",
      "metadata": {
        "id": "WqJeCtjZ9qDp"
      },
      "source": [
        "print(train_images.shape, train_labels.shape)\n",
        "print(test_images.shape, test_labels.shape)\n",
        "\n",
        "for i in range(5):\n",
        "    plt.subplot(1, 5, i + 1)\n",
        "    plt.imshow(train_images[i])\n",
        "    print(train_labels[i], end=\", \")\n",
        "plt.show()"
      ],
      "execution_count": null,
      "outputs": []
    },
    {
      "cell_type": "markdown",
      "metadata": {
        "id": "86wkocdkAFGt"
      },
      "source": [
        "## Preprocessing Dataset"
      ]
    },
    {
      "cell_type": "code",
      "metadata": {
        "id": "-sOwwsZhALpv"
      },
      "source": [
        "train_images = train_images.astype('float32') / 255.0\n",
        "test_images = test_images.astype('float32') / 255.0\n",
        "\n",
        "train_labels = to_categorical(train_labels, 10)\n",
        "test_labels = to_categorical(test_labels, 10)"
      ],
      "execution_count": null,
      "outputs": []
    },
    {
      "cell_type": "markdown",
      "metadata": {
        "id": "cu9js9-ZAvRt"
      },
      "source": [
        "## Analyzing Dataset (Normalized)"
      ]
    },
    {
      "cell_type": "code",
      "metadata": {
        "id": "ZfpERam3A09q"
      },
      "source": [
        "print(train_images.shape, train_labels.shape)\n",
        "print(test_images.shape, test_labels.shape)\n",
        "\n",
        "for i in range(5):\n",
        "    plt.subplot(1, 5, i + 1)\n",
        "    plt.imshow(train_images[i])\n",
        "    print(train_labels[i])\n",
        "plt.show()"
      ],
      "execution_count": null,
      "outputs": []
    },
    {
      "cell_type": "markdown",
      "metadata": {
        "id": "qUrtfuGQCZCT"
      },
      "source": [
        "# Model"
      ]
    },
    {
      "cell_type": "markdown",
      "metadata": {
        "id": "JalxTHBxCeJ0"
      },
      "source": [
        "## Generating Model"
      ]
    },
    {
      "cell_type": "code",
      "metadata": {
        "id": "2NDvpNEFCf7B"
      },
      "source": [
        "model = Sequential()\n",
        "\n",
        "# Convolutional Block (Conv-Conv-Pool-Dropout)\n",
        "model.add(Conv2D(32, (3, 3), activation='relu', padding='same', input_shape=(32, 32, 3)))\n",
        "model.add(Conv2D(32, (3, 3), activation='relu', padding='same'))\n",
        "model.add(MaxPool2D(pool_size=(2, 2)))\n",
        "model.add(Dropout(0.25))\n",
        "\n",
        "# Convolutional Block (Conv-Conv-Pool-Dropout)\n",
        "model.add(Conv2D(64, (3, 3), activation='relu', padding='same'))\n",
        "model.add(Conv2D(64, (3, 3), activation='relu', padding='same'))\n",
        "model.add(MaxPool2D(pool_size=(2, 2)))\n",
        "model.add(Dropout(0.25))\n",
        "\n",
        "# Classifying\n",
        "model.add(Flatten())\n",
        "model.add(Dense(512, activation='relu'))\n",
        "model.add(Dropout(0.5))\n",
        "model.add(Dense(10, activation='softmax'))"
      ],
      "execution_count": null,
      "outputs": []
    },
    {
      "cell_type": "markdown",
      "metadata": {
        "id": "4iSJgeueJ4X5"
      },
      "source": [
        "## Compiling Model"
      ]
    },
    {
      "cell_type": "code",
      "metadata": {
        "id": "xpRBz2rbJ57X"
      },
      "source": [
        "model.compile(loss='categorical_crossentropy', optimizer=Adam(lr=0.001), metrics=['acc'])"
      ],
      "execution_count": null,
      "outputs": []
    },
    {
      "cell_type": "markdown",
      "metadata": {
        "id": "n_Peod94CWon"
      },
      "source": [
        "## Analyzing Model"
      ]
    },
    {
      "cell_type": "code",
      "metadata": {
        "id": "siFJ1wNRCYm9"
      },
      "source": [
        "model.summary()"
      ],
      "execution_count": null,
      "outputs": []
    },
    {
      "cell_type": "markdown",
      "metadata": {
        "id": "I00Vls4kKsVX"
      },
      "source": [
        "# Training"
      ]
    },
    {
      "cell_type": "code",
      "metadata": {
        "id": "Edf0KZHIKwlU"
      },
      "source": [
        "history = model.fit(train_images, train_labels, batch_size=128, epochs=20, validation_split=0.1)"
      ],
      "execution_count": null,
      "outputs": []
    },
    {
      "cell_type": "code",
      "metadata": {
        "id": "tX7lAZzSM8_K"
      },
      "source": [
        "# from keras.models import load_model\n",
        "\n",
        "# model.save('CNN_CIFAR10.h5')\n",
        "# model = load_model('CNN_CIFAR10.h5')"
      ],
      "execution_count": null,
      "outputs": []
    },
    {
      "cell_type": "markdown",
      "metadata": {
        "id": "GAo-lv1kKuPN"
      },
      "source": [
        "## Analyzing Training Result\n"
      ]
    },
    {
      "cell_type": "code",
      "metadata": {
        "id": "YZIGbjNfNohL"
      },
      "source": [
        "plt.plot(history.history['acc'], label='acc')\n",
        "plt.plot(history.history['val_acc'], label='val_acc')\n",
        "plt.ylabel('accuracy')\n",
        "plt.xlabel('epoch')\n",
        "plt.legend(loc='best')\n",
        "plt.show()"
      ],
      "execution_count": null,
      "outputs": []
    },
    {
      "cell_type": "markdown",
      "metadata": {
        "id": "0pAyQ8IcOpJA"
      },
      "source": [
        "# Evaluation"
      ]
    },
    {
      "cell_type": "code",
      "metadata": {
        "id": "5RETvGe6OrEn"
      },
      "source": [
        "test_loss, test_acc = model.evaluate(test_images, test_labels)"
      ],
      "execution_count": null,
      "outputs": []
    },
    {
      "cell_type": "markdown",
      "metadata": {
        "id": "UYAD11WePwTu"
      },
      "source": [
        "# Prediction"
      ]
    },
    {
      "cell_type": "code",
      "metadata": {
        "id": "yu_QrVfbPzpS"
      },
      "source": [
        "test_predictions = model.predict(test_images[:5])\n",
        "test_predictions = np.argmax(test_predictions, axis=1)\n",
        "labels = ['airplane', 'automobile', 'bird', 'cat', 'deer', 'dog', 'frog', 'horse', 'ship', 'truck']\n",
        "\n",
        "for i in range(5):\n",
        "    plt.subplot(2, 5, i + 1)\n",
        "    plt.imshow(test_images[i])\n",
        "    print([labels[test_predictions[i]]], end=\", \")\n",
        "plt.show()"
      ],
      "execution_count": null,
      "outputs": []
    }
  ]
}