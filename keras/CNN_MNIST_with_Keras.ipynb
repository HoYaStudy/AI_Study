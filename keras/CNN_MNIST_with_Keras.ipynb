{
  "cells": [
    {
      "cell_type": "code",
      "execution_count": null,
      "metadata": {
        "id": "FQgYC3xDYleW"
      },
      "outputs": [],
      "source": [
        "import keras\n",
        "from keras import backend, layers, models\n",
        "from keras.datasets import mnist\n",
        "import matplotlib.pyplot as plt"
      ]
    },
    {
      "cell_type": "markdown",
      "metadata": {
        "id": "Cj1yTjYRjE3f"
      },
      "source": [
        "# 연쇄 방식 Modeling - OOP"
      ]
    },
    {
      "cell_type": "code",
      "execution_count": null,
      "metadata": {
        "id": "tnmafOFdjIGx"
      },
      "outputs": [],
      "source": [
        "class CNN_seq_OOP(models.Sequential):\n",
        "    def __init__(self, input_shape, num_classes):\n",
        "        super().__init__()\n",
        "        self.add(layers.Conv2D(32, kernel_size=(3, 3), activation='relu', input_shape=input_shape))\n",
        "        self.add(layers.Conv2D(64, kernel_size=(3, 3), activation='relu'))\n",
        "        self.add(layers.MaxPooling2D(pool_size=(2, 2)))\n",
        "        self.add(layers.Dropout(0.25))\n",
        "        self.add(layers.Flatten())\n",
        "        self.add(layers.Dense(128, activation='relu'))\n",
        "        self.add(layers.Dropout(0.5))\n",
        "        self.add(layers.Dense(num_classes, activation='softmax'))\n",
        "        self.compile(loss=keras.losses.categorical_crossentropy, optimizer='rmsprop', metrics=['accuracy'])"
      ]
    },
    {
      "cell_type": "markdown",
      "metadata": {
        "id": "XYyAHNT3ivpX"
      },
      "source": [
        "# Data - MNIST"
      ]
    },
    {
      "cell_type": "code",
      "execution_count": null,
      "metadata": {
        "id": "PqEMy900iu3u"
      },
      "outputs": [],
      "source": [
        "class Data_MNIST():\n",
        "    def __init__(self):\n",
        "        num_classes = 10\n",
        "\n",
        "        (x_train, y_train), (x_test, y_test) = mnist.load_data()\n",
        "        img_rows, img_cols = x_train.shape[1:]\n",
        "\n",
        "        if backend.image_data_format() == 'channels_first':\n",
        "            x_train = x_train.reshape(x_train.shape[0], 1, img_rows, img_cols)\n",
        "            x_test = x_test.reshape(x_test.shape[0], 1, img_rows, img_cols)\n",
        "            input_shape = (1, img_rows, img_cols)\n",
        "        else:\n",
        "            x_train = x_train.reshape(x_train.shape[0], img_rows, img_cols, 1)\n",
        "            x_test = x_test.reshape(x_test.shape[0], img_rows, img_cols, 1)\n",
        "            input_shape = (img_rows, img_cols, 1)\n",
        "\n",
        "        x_train = x_train.astype('float32')\n",
        "        x_test = x_test.astype('float32')\n",
        "        x_train /= 255\n",
        "        x_test /= 255\n",
        "\n",
        "        y_train = keras.utils.to_categorical(y_train, num_classes)\n",
        "        y_test = keras.utils.to_categorical(y_test, num_classes)\n",
        "\n",
        "        self.input_shape = input_shape\n",
        "        self.num_classes = num_classes\n",
        "        self.x_train, self.y_train = x_train, y_train\n",
        "        self.x_test, self.y_test = x_test, y_test"
      ]
    },
    {
      "cell_type": "markdown",
      "metadata": {
        "id": "XSSAqJg3kpSY"
      },
      "source": [
        "# Draw Result"
      ]
    },
    {
      "cell_type": "code",
      "execution_count": null,
      "metadata": {
        "id": "jdnfV6vUkq7h"
      },
      "outputs": [],
      "source": [
        "def plot_loss(history, title=None):\n",
        "    if not isinstance(history, dict):\n",
        "        history = history.history\n",
        "\n",
        "    plt.plot(history['loss'])\n",
        "    plt.plot(history['val_loss'])\n",
        "    if title is not None:\n",
        "        plt.title(title)\n",
        "    plt.xlabel('Epoch')\n",
        "    plt.ylabel('Loss')\n",
        "    plt.legend(['Training', 'Validation'], loc=0)\n",
        "\n",
        "def plot_acc(history, title=None):\n",
        "    if not isinstance(history, dict):\n",
        "        history = history.history\n",
        "\n",
        "    plt.plot(history['accuracy'])\n",
        "    plt.plot(history['val_accuracy'])\n",
        "    if title is not None:\n",
        "        plt.title(title)\n",
        "    plt.xlabel('Epoch')\n",
        "    plt.ylabel('Accuracy')\n",
        "    plt.legend(['Training', 'Validation'], loc=0)"
      ]
    },
    {
      "cell_type": "markdown",
      "metadata": {
        "id": "2rJMDwQ8liws"
      },
      "source": [
        "# Usage"
      ]
    },
    {
      "cell_type": "code",
      "execution_count": null,
      "metadata": {
        "id": "7Gu08PCjljw7"
      },
      "outputs": [],
      "source": [
        "EPOCHS = 10\n",
        "BATCH_SIZE = 128\n",
        "\n",
        "data = Data_MNIST()\n",
        "model = CNN_seq_OOP(data.input_shape, data.num_classes)\n",
        "\n",
        "history = model.fit(data.x_train, data.y_train, epochs=EPOCHS, batch_size=BATCH_SIZE, validation_split=0.2)\n",
        "\n",
        "score = model.evaluate(data.x_test, data.y_test)\n",
        "print(f\"Test Loss {score[0]} and Accuracy {score[1]}\")\n",
        "\n",
        "plot_loss(history)\n",
        "plt.show()\n",
        "plot_acc(history)\n",
        "plt.show()"
      ]
    }
  ],
  "metadata": {
    "colab": {
      "collapsed_sections": [],
      "name": "ANN.ipynb",
      "private_outputs": true,
      "provenance": []
    },
    "kernelspec": {
      "display_name": "Python 3.9.6 ('.venv': venv)",
      "language": "python",
      "name": "python3"
    },
    "language_info": {
      "codemirror_mode": {
        "name": "ipython",
        "version": 3
      },
      "file_extension": ".py",
      "mimetype": "text/x-python",
      "name": "python",
      "nbconvert_exporter": "python",
      "pygments_lexer": "ipython3",
      "version": "3.9.6"
    },
    "vscode": {
      "interpreter": {
        "hash": "27640c38ce2adddea55846e439bfdf3cf133fd1f7141848aed330a8836e8eaec"
      }
    }
  },
  "nbformat": 4,
  "nbformat_minor": 0
}
