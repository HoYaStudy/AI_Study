{
  "nbformat": 4,
  "nbformat_minor": 0,
  "metadata": {
    "colab": {
      "name": "DNN_BHP_with_Keras.ipynb",
      "provenance": [],
      "private_outputs": true,
      "collapsed_sections": [
        "DsKo7rFnqy9c",
        "HSL1DwId4b5h"
      ]
    },
    "kernelspec": {
      "name": "python3",
      "display_name": "Python 3"
    }
  },
  "cells": [
    {
      "cell_type": "markdown",
      "metadata": {
        "id": "BjDDD8YJo7-m"
      },
      "source": [
        "# Import Module"
      ]
    },
    {
      "cell_type": "code",
      "metadata": {
        "id": "H4iow4DXoj6U"
      },
      "source": [
        "from keras.datasets import boston_housing\n",
        "from keras.models import Sequential\n",
        "from keras.layers import Dense\n",
        "from keras.optimizers import Adam\n",
        "from keras.callbacks import EarlyStopping\n",
        "import pandas as pd\n",
        "import numpy as np\n",
        "import matplotlib.pyplot as plt\n",
        "%matplotlib inline"
      ],
      "execution_count": null,
      "outputs": []
    },
    {
      "cell_type": "markdown",
      "metadata": {
        "id": "DsKo7rFnqy9c"
      },
      "source": [
        "# Input Dataset"
      ]
    },
    {
      "cell_type": "markdown",
      "metadata": {
        "id": "Bivf-w7I4YEC"
      },
      "source": [
        "## Getting Dataset"
      ]
    },
    {
      "cell_type": "code",
      "metadata": {
        "id": "RSwIxThhq2TH"
      },
      "source": [
        "(train_data, train_labels), (test_data, test_labels) = boston_housing.load_data()"
      ],
      "execution_count": null,
      "outputs": []
    },
    {
      "cell_type": "markdown",
      "metadata": {
        "id": "1LOhu7DkrVLL"
      },
      "source": [
        "## Analyzing Dataset (Original)"
      ]
    },
    {
      "cell_type": "code",
      "metadata": {
        "id": "AZM4maiQrXJX"
      },
      "source": [
        "print(train_data.shape, train_labels.shape)\n",
        "print(test_data.shape, test_labels.shape)\n",
        "\n",
        "print(train_labels[:5])\n",
        "\n",
        "column_names = ['CRIM', 'ZN', 'INDUS', 'CHAS', 'NOX', 'RM', 'AGE', 'DIS', 'RAD', 'TAX', 'PTRATIO', 'B', 'LSTAT']\n",
        "df = pd.DataFrame(train_data, columns=column_names)\n",
        "df.head()\n"
      ],
      "execution_count": null,
      "outputs": []
    },
    {
      "cell_type": "markdown",
      "metadata": {
        "id": "ckMfbmR_0V2s"
      },
      "source": [
        "## Preprocessing Dataset"
      ]
    },
    {
      "cell_type": "code",
      "metadata": {
        "id": "JZ868YVz0X4T"
      },
      "source": [
        "# Shuffle\n",
        "order = np.argsort(np.random.random(train_labels.shape))\n",
        "train_data = train_data[order]\n",
        "train_labels = train_labels[order]\n",
        "\n",
        "# Normalization\n",
        "mean = train_data.mean(axis=0)\n",
        "std = train_data.std(axis=0)\n",
        "train_data = (train_data - mean) / std\n",
        "\n",
        "mean = test_data.mean(axis=0)\n",
        "std = test_data.std(axis=0)\n",
        "test_data = (test_data - mean) / std"
      ],
      "execution_count": null,
      "outputs": []
    },
    {
      "cell_type": "markdown",
      "metadata": {
        "id": "hVjFpvxK3brg"
      },
      "source": [
        "## Analyzing Dataset (Normalized)"
      ]
    },
    {
      "cell_type": "code",
      "metadata": {
        "id": "YMZz76s_3eom"
      },
      "source": [
        "column_names = ['CRIM', 'ZN', 'INDUS', 'CHAS', 'NOX', 'RM', 'AGE', 'DIS', 'RAD', 'TAX', 'PTRATIO', 'B', 'LSTAT']\n",
        "df = pd.DataFrame(train_data, columns=column_names)\n",
        "df.head()"
      ],
      "execution_count": null,
      "outputs": []
    },
    {
      "cell_type": "markdown",
      "metadata": {
        "id": "HSL1DwId4b5h"
      },
      "source": [
        "# Model"
      ]
    },
    {
      "cell_type": "markdown",
      "metadata": {
        "id": "3aOXT5Je4dYN"
      },
      "source": [
        "## Generating Model"
      ]
    },
    {
      "cell_type": "code",
      "metadata": {
        "id": "joD3QaxY4gMH"
      },
      "source": [
        "model = Sequential()\n",
        "model.add(Dense(64, activation='relu', input_shape=(13,)))\n",
        "model.add(Dense(64, activation='relu'))\n",
        "model.add(Dense(1))"
      ],
      "execution_count": null,
      "outputs": []
    },
    {
      "cell_type": "markdown",
      "metadata": {
        "id": "WU2r8-zDQ0Fn"
      },
      "source": [
        "## Compiling Model"
      ]
    },
    {
      "cell_type": "code",
      "metadata": {
        "id": "TjH_8NPmQ2ax"
      },
      "source": [
        "model.compile(loss='mse', optimizer=Adam(lr=0.001), metrics=['mae'])"
      ],
      "execution_count": null,
      "outputs": []
    },
    {
      "cell_type": "markdown",
      "metadata": {
        "id": "9vRme6j7QSoK"
      },
      "source": [
        "# Training"
      ]
    },
    {
      "cell_type": "code",
      "metadata": {
        "id": "ljWUO_uY0pKR"
      },
      "source": [
        "early_stop = EarlyStopping(monitor='val_loss', patience=20)\n",
        "history = model.fit(train_data, train_labels, epochs=500, validation_split=0.2, callbacks=[early_stop])"
      ],
      "execution_count": null,
      "outputs": []
    },
    {
      "cell_type": "markdown",
      "metadata": {
        "id": "XuCWcwCQ2UYj"
      },
      "source": [
        "## Analyzing Training Result"
      ]
    },
    {
      "cell_type": "code",
      "metadata": {
        "id": "R3r55x1w2bLu"
      },
      "source": [
        "plt.plot(history.history['mae'], label='train mae')\n",
        "plt.plot(history.history['val_mae'], label='val mae')\n",
        "plt.xlabel('epoch')\n",
        "plt.ylabel('mae [$1,000]')\n",
        "plt.legend(loc='best')\n",
        "plt.ylim([0, 5])\n",
        "plt.show()"
      ],
      "execution_count": null,
      "outputs": []
    },
    {
      "cell_type": "markdown",
      "metadata": {
        "id": "khZaiYPI4rVL"
      },
      "source": [
        "# Evaluation"
      ]
    },
    {
      "cell_type": "code",
      "metadata": {
        "id": "Uo2f-xON4txQ"
      },
      "source": [
        "test_loss, test_mae = model.evaluate(test_data, test_labels)\n",
        "# print('loss: {:.3f}\\nmae: {:.3f}'.format(test_loss, test_mae))"
      ],
      "execution_count": null,
      "outputs": []
    },
    {
      "cell_type": "markdown",
      "metadata": {
        "id": "IjYR_0jl5s64"
      },
      "source": [
        "# Prediction"
      ]
    },
    {
      "cell_type": "code",
      "metadata": {
        "id": "fpUhVXtp5t-f"
      },
      "source": [
        "print(np.round(test_labels[:10]))\n",
        "\n",
        "test_predictions = model.predict(test_data[:10]).flatten()\n",
        "print(np.round(test_predictions))"
      ],
      "execution_count": null,
      "outputs": []
    }
  ]
}