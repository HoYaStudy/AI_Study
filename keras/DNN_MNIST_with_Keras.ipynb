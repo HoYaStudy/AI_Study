{
  "nbformat": 4,
  "nbformat_minor": 0,
  "metadata": {
    "colab": {
      "name": "DNN_MNIST_with_Keras.ipynb",
      "provenance": [],
      "collapsed_sections": []
    },
    "kernelspec": {
      "name": "python3",
      "display_name": "Python 3"
    }
  },
  "cells": [
    {
      "cell_type": "markdown",
      "metadata": {
        "id": "NIbCRU9kKNMr"
      },
      "source": [
        "# Import Module"
      ]
    },
    {
      "cell_type": "code",
      "metadata": {
        "id": "oCvL-5dWKH97"
      },
      "source": [
        "from keras.datasets import mnist\n",
        "from keras.models import Sequential\n",
        "from keras.layers import Dense, Dropout\n",
        "from keras.optimizers import SGD\n",
        "from keras.utils import to_categorical\n",
        "import numpy as np\n",
        "import matplotlib.pyplot as plt\n",
        "\n",
        "%matplotlib inline"
      ],
      "execution_count": null,
      "outputs": []
    },
    {
      "cell_type": "markdown",
      "metadata": {
        "id": "iv0kJJZjKMs3"
      },
      "source": [
        "# Input Dataset"
      ]
    },
    {
      "cell_type": "markdown",
      "metadata": {
        "id": "pYvp9DcW4IlK"
      },
      "source": [
        "## Getting Dataset"
      ]
    },
    {
      "cell_type": "code",
      "metadata": {
        "id": "bpbYbEFsKVUZ"
      },
      "source": [
        "(train_images, train_labels), (test_images, test_labels) = mnist.load_data()"
      ],
      "execution_count": null,
      "outputs": []
    },
    {
      "cell_type": "markdown",
      "metadata": {
        "id": "vcO0VNTFKgsn"
      },
      "source": [
        "## Analyzing Dataset (Original)"
      ]
    },
    {
      "cell_type": "code",
      "metadata": {
        "id": "oi3exZDIKg_9"
      },
      "source": [
        "print(train_images.shape, train_labels.shape)\n",
        "print(test_images.shape, test_labels.shape)\n",
        "\n",
        "for i in range(10):\n",
        "    plt.subplot(1, 10, i + 1)\n",
        "    plt.imshow(train_images[i], 'gray')\n",
        "    print(train_labels[i], end=\", \")\n",
        "plt.show()"
      ],
      "execution_count": null,
      "outputs": []
    },
    {
      "cell_type": "markdown",
      "metadata": {
        "id": "2tkZvLehP0qe"
      },
      "source": [
        "## Preprocessing Dataset"
      ]
    },
    {
      "cell_type": "code",
      "metadata": {
        "id": "jF0oSGmFP3UF"
      },
      "source": [
        "train_images = train_images.reshape((train_images.shape[0], 784))\n",
        "test_images = test_images.reshape((test_images.shape[0], 784))\n",
        "\n",
        "train_labels = to_categorical(train_labels)\n",
        "test_labels = to_categorical(test_labels)"
      ],
      "execution_count": null,
      "outputs": []
    },
    {
      "cell_type": "markdown",
      "metadata": {
        "id": "xLs_-N-VQ823"
      },
      "source": [
        "## Analyzing Dataset (Normalized)"
      ]
    },
    {
      "cell_type": "code",
      "metadata": {
        "id": "9_ryG24mQ9J0"
      },
      "source": [
        "print(train_images.shape, train_labels.shape)\n",
        "print(test_images.shape, test_labels.shape)\n",
        "\n",
        "print(train_labels[0])"
      ],
      "execution_count": null,
      "outputs": []
    },
    {
      "cell_type": "markdown",
      "metadata": {
        "id": "ZLcLTEixdt4T"
      },
      "source": [
        "# Model"
      ]
    },
    {
      "cell_type": "markdown",
      "metadata": {
        "id": "VMXXhMJx4UUS"
      },
      "source": [
        "## Generating Model"
      ]
    },
    {
      "cell_type": "code",
      "metadata": {
        "id": "FlHwFS3Ldyo1"
      },
      "source": [
        "model = Sequential()\n",
        "model.add(Dense(256, activation='sigmoid', input_shape=(784,)))\n",
        "model.add(Dense(128, activation='sigmoid'))\n",
        "model.add(Dropout(rate=0.5))\n",
        "model.add(Dense(10, activation='softmax'))"
      ],
      "execution_count": null,
      "outputs": []
    },
    {
      "cell_type": "markdown",
      "metadata": {
        "id": "p5VysJnJQnCO"
      },
      "source": [
        "## Compiling Model"
      ]
    },
    {
      "cell_type": "code",
      "metadata": {
        "id": "jyx7oDBtQpAL"
      },
      "source": [
        "model.compile(loss='categorical_crossentropy', optimizer=SGD(lr=0.1), metrics=['acc'])"
      ],
      "execution_count": null,
      "outputs": []
    },
    {
      "cell_type": "markdown",
      "metadata": {
        "id": "PzZWoIEIGSoL"
      },
      "source": [
        "# Training"
      ]
    },
    {
      "cell_type": "code",
      "metadata": {
        "id": "xyQZBHaEGVXX"
      },
      "source": [
        "history = model.fit(train_images, train_labels, batch_size=500, epochs=5, validation_split=0.2)"
      ],
      "execution_count": null,
      "outputs": []
    },
    {
      "cell_type": "markdown",
      "metadata": {
        "id": "i89dH97jM89y"
      },
      "source": [
        "## Analyzing Training Result"
      ]
    },
    {
      "cell_type": "code",
      "metadata": {
        "id": "eqpg1EyfNAss"
      },
      "source": [
        "plt.plot(history.history['acc'], label='acc')\n",
        "plt.plot(history.history['val_acc'], label='val_acc')\n",
        "plt.xlabel('epoch')\n",
        "plt.ylabel('accuracy')\n",
        "plt.legend(loc='best')\n",
        "plt.show()"
      ],
      "execution_count": null,
      "outputs": []
    },
    {
      "cell_type": "markdown",
      "metadata": {
        "id": "_0Oj_m20N0fw"
      },
      "source": [
        "# Evaluation"
      ]
    },
    {
      "cell_type": "code",
      "metadata": {
        "id": "AXE_iUMFN3We"
      },
      "source": [
        "test_loss, test_acc = model.evaluate(test_images, test_labels)\n",
        "# print('loss: {:.4f} \\nacc: {:.4f}'.format(test_loss, test_acc))"
      ],
      "execution_count": null,
      "outputs": []
    },
    {
      "cell_type": "markdown",
      "metadata": {
        "id": "e2JAZiqFPOjw"
      },
      "source": [
        "# Prediction"
      ]
    },
    {
      "cell_type": "code",
      "metadata": {
        "id": "pnwBtz4qPN6Z"
      },
      "source": [
        "for i in range(10):\n",
        "    plt.subplot(1, 10, i + 1)\n",
        "    plt.imshow(test_images[i].reshape((28, 28)), 'gray')\n",
        "plt.show()\n",
        "\n",
        "test_predictions = model.predict(test_images[:10])\n",
        "print(np.argmax(test_predictions, axis=1))\n",
        "print(np.argmax(test_labels[:10], axis=1))"
      ],
      "execution_count": null,
      "outputs": []
    }
  ]
}