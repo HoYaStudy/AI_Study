{
  "cells": [
    {
      "cell_type": "code",
      "execution_count": null,
      "metadata": {
        "id": "FQgYC3xDYleW"
      },
      "outputs": [],
      "source": [
        "from keras import backend, models\n",
        "from keras.layers import Dense, Conv1D, Reshape, Flatten, Lambda\n",
        "from keras.optimizers import Adam\n",
        "import numpy as np\n",
        "import matplotlib.pyplot as plt"
      ]
    },
    {
      "cell_type": "markdown",
      "metadata": {
        "id": "Cj1yTjYRjE3f"
      },
      "source": [
        "# 연쇄 방식 Modeling - OOP"
      ]
    },
    {
      "cell_type": "code",
      "execution_count": null,
      "metadata": {
        "id": "tnmafOFdjIGx"
      },
      "outputs": [],
      "source": [
        "def add_decorate(x):\n",
        "    m = backend.mean(x, axis=-1, keepdims=True)\n",
        "    d = backend.square(x - m)\n",
        "    return backend.concatenate([x, d], axis=-1)\n",
        "\n",
        "def add_decorate_shape(input_shape):\n",
        "    shape = list(input_shape)\n",
        "    assert len(shape) == 2\n",
        "    shape[1] *= 2\n",
        "    return tuple(shape)\n",
        "\n",
        "LEARNING_RATE = 2e-4\n",
        "adam = Adam(learning_rate=LEARNING_RATE, beta_1=0.9, beta_2=0.999)\n",
        "\n",
        "def model_compile(model):\n",
        "    return model.compile(loss='binary_crossentropy', optimizer=adam, metrics=['accuracy'])\n",
        "\n",
        "class GAN:\n",
        "    def __init__(self, ni_d, nh_d, nh_g):\n",
        "        self.ni_d = ni_d\n",
        "        self.nh_d = nh_d\n",
        "        self.nh_g = nh_g\n",
        "\n",
        "        self.d = self.gen_d()\n",
        "        self.g = self.gen_g()\n",
        "        self.gd = self.make_gd()\n",
        "\n",
        "    def gen_d(self):\n",
        "        ni_d = self.ni_d\n",
        "        nh_d = self.nh_g\n",
        "        \n",
        "        d = models.Sequential()\n",
        "        d.add(Lambda(add_decorate, output_shape=add_decorate_shape, input_shape=(ni_d,)))\n",
        "        d.add(Dense(nh_d, activation='relu'))\n",
        "        d.add(Dense(nh_d, activation='relu'))\n",
        "        d.add(Dense(1, activation='sigmoid'))\n",
        "\n",
        "        model_compile(d)\n",
        "        return d\n",
        "\n",
        "    def gen_g(self):\n",
        "        ni_d = self.ni_d\n",
        "        nh_g = self.nh_g\n",
        "\n",
        "        g = models.Sequential()\n",
        "        g.add(Reshape((ni_d, 1), input_shape=(ni_d,)))\n",
        "        g.add(Conv1D(nh_g, 1, activation='relu'))\n",
        "        g.add(Conv1D(nh_g, 1, activation='sigmoid'))\n",
        "        g.add(Conv1D(1, 1))\n",
        "        g.add(Flatten())\n",
        "\n",
        "        model_compile(g)\n",
        "        return g\n",
        "\n",
        "    def make_gd(self):\n",
        "        g, d = self.g, self.d\n",
        "        gd = models.Sequential()\n",
        "        gd.add(g)\n",
        "        gd.add(d)\n",
        "        d.trainable = False\n",
        "        model_compile(gd)\n",
        "        d.trainable = True\n",
        "        return gd\n",
        "\n",
        "    def d_train_on_batch(self, real, gen):\n",
        "        x = np.concatenate([real, gen], axis=0)\n",
        "        y = np.array([1] * real.shape[0] + [0] * gen.shape[0])\n",
        "        self.d.train_on_batch(x, y)\n",
        "\n",
        "    def gd_train_on_batch(self, z):\n",
        "        gd = self.gd\n",
        "        y = np.array([1] * z.shape[0])\n",
        "        gd.train_on_batch(z, y)"
      ]
    },
    {
      "cell_type": "markdown",
      "metadata": {
        "id": "XYyAHNT3ivpX"
      },
      "source": [
        "# Data Generator"
      ]
    },
    {
      "cell_type": "code",
      "execution_count": null,
      "metadata": {
        "id": "PqEMy900iu3u"
      },
      "outputs": [],
      "source": [
        "class DataGenerator:\n",
        "    def __init__(self, mu, sigma, ni_d):\n",
        "        self.real_sample = lambda n_batch: np.random.normal(mu, sigma, (n_batch, ni_d))\n",
        "        self.in_sample = lambda n_batch: np.random.rand(n_batch, ni_d)"
      ]
    },
    {
      "cell_type": "markdown",
      "metadata": {},
      "source": [
        "# Training and Evaluation"
      ]
    },
    {
      "cell_type": "code",
      "execution_count": null,
      "metadata": {},
      "outputs": [],
      "source": [
        "class Machine:\n",
        "    def __init__(self, n_batch=10, ni_d=100):\n",
        "        data_mean = 4\n",
        "        data_stddev = 1.25\n",
        "\n",
        "        self.n_iter_d = 1\n",
        "        self.n_iter_g = 5\n",
        "        self.n_batch = n_batch\n",
        "\n",
        "        self.data = DataGenerator(data_mean, data_stddev, ni_d)\n",
        "        self.gan = GAN(ni_d=ni_d, nh_d=50, nh_g=50)\n",
        "\n",
        "    @staticmethod\n",
        "    def print_stat(real, gen):\n",
        "        def stat(d):\n",
        "            return (np.mean(d), np.std(d))\n",
        "        print(f'Mean and Std of Real: {stat(real)}')\n",
        "        print(f'Mean and Std of Gen: {stat(gen)}')\n",
        "\n",
        "    def train_d(self):\n",
        "        real = self.data.real_sample(self.n_batch)\n",
        "\n",
        "        z = self.data.in_sample(self.n_batch)\n",
        "        gen = self.gan.g.predict(z)\n",
        "\n",
        "        self.gan.d_trainable = True\n",
        "        self.gan.d_train_on_batch(real, gen)\n",
        "\n",
        "    def train_gd(self):\n",
        "        z = self.data.in_sample(self.n_batch)\n",
        "\n",
        "        self.gan.d.trainable = False\n",
        "        self.gan.gd_train_on_batch(z)\n",
        "\n",
        "    def train_each(self):\n",
        "        for it in range(self.n_iter_d):\n",
        "            self.train_d()\n",
        "        for it in range(self.n_iter_g):\n",
        "            self.train_gd()\n",
        "\n",
        "    def train(self, epochs):\n",
        "        for epoch in range(epochs):\n",
        "            self.train_each()\n",
        "\n",
        "    def test(self, n_test):\n",
        "        z = self.data.in_sample(n_test)\n",
        "        gen = self.gan.g.predict(z)\n",
        "        return gen, z\n",
        "\n",
        "    def show_hist(self, real, gen, z):\n",
        "        plt.hist(real.reshape(-1), histtype='step', label='Real')\n",
        "        plt.hist(gen.reshape(-1), histtype='step', label='Generated')\n",
        "        plt.hist(z.reshape(-1), histtype='step', label='Input')\n",
        "        plt.legend(loc=0)\n",
        "\n",
        "    def test_and_show(self, n_test):\n",
        "        gen, z = self.test(n_test)\n",
        "        real = self.data.real_sample(n_test)\n",
        "        self.show_hist(real, gen, z)\n",
        "        Machine.print_stat(real, gen)\n",
        "\n",
        "    def run_epochs(self, epochs, n_test):\n",
        "        self.train(epochs)\n",
        "        self.test_and_show(n_test)\n",
        "\n",
        "    def run(self, n_repeat=200, n_show=200, n_test=100):\n",
        "        for ii in range(n_repeat):\n",
        "            print(f'Stage {ii}, (Epoch: {ii * n_show})')\n",
        "            self.run_epochs(n_show, n_test)\n",
        "            plt.show()"
      ]
    },
    {
      "cell_type": "markdown",
      "metadata": {
        "id": "2rJMDwQ8liws"
      },
      "source": [
        "# Usage"
      ]
    },
    {
      "cell_type": "code",
      "execution_count": null,
      "metadata": {
        "id": "7Gu08PCjljw7"
      },
      "outputs": [],
      "source": [
        "machine = Machine(n_batch=1, ni_d=100)\n",
        "machine.run(n_repeat=200, n_show=200, n_test=100)"
      ]
    }
  ],
  "metadata": {
    "colab": {
      "collapsed_sections": [],
      "name": "ANN.ipynb",
      "private_outputs": true,
      "provenance": []
    },
    "kernelspec": {
      "display_name": "Python 3.9.6 ('.venv': venv)",
      "language": "python",
      "name": "python3"
    },
    "language_info": {
      "codemirror_mode": {
        "name": "ipython",
        "version": 3
      },
      "file_extension": ".py",
      "mimetype": "text/x-python",
      "name": "python",
      "nbconvert_exporter": "python",
      "pygments_lexer": "ipython3",
      "version": "3.9.6"
    },
    "vscode": {
      "interpreter": {
        "hash": "27640c38ce2adddea55846e439bfdf3cf133fd1f7141848aed330a8836e8eaec"
      }
    }
  },
  "nbformat": 4,
  "nbformat_minor": 0
}
