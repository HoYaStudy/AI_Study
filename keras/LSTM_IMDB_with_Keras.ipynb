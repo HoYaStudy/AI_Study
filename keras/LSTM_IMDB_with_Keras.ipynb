{
  "cells": [
    {
      "cell_type": "code",
      "execution_count": null,
      "metadata": {
        "id": "FQgYC3xDYleW"
      },
      "outputs": [],
      "source": [
        "from keras import layers, models\n",
        "from keras.utils import pad_sequences\n",
        "from keras.datasets import imdb"
      ]
    },
    {
      "cell_type": "markdown",
      "metadata": {
        "id": "Cj1yTjYRjE3f"
      },
      "source": [
        "# 분산 방식 Modeling - OOP"
      ]
    },
    {
      "cell_type": "code",
      "execution_count": null,
      "metadata": {
        "id": "tnmafOFdjIGx"
      },
      "outputs": [],
      "source": [
        "class LSTM_Model_OOP(models.Model):\n",
        "    def __init__(self, max_features, max_len):\n",
        "        x = layers.Input((max_len,))\n",
        "        h = layers.Embedding(max_features, 128)(x)\n",
        "        h = layers.LSTM(128, dropout=0.2, recurrent_dropout=0.2)(h)\n",
        "        y = layers.Dense(1, activation='sigmoid')(h)\n",
        "\n",
        "        super().__init__(x, y)\n",
        "\n",
        "        self.compile(loss='binary_crossentropy', optimizer='adam', metrics=['accuracy'])"
      ]
    },
    {
      "cell_type": "markdown",
      "metadata": {
        "id": "XYyAHNT3ivpX"
      },
      "source": [
        "# Data - IMDB"
      ]
    },
    {
      "cell_type": "code",
      "execution_count": null,
      "metadata": {
        "id": "PqEMy900iu3u"
      },
      "outputs": [],
      "source": [
        "class Data_IMDB():\n",
        "    def __init__(self, max_features=20000, max_len=80):\n",
        "        (self.x_train, self.y_train), (self.x_test, self.y_test) = imdb.load_data(num_words=max_features)\n",
        "        self.x_train = pad_sequences(self.x_train, maxlen=max_len)\n",
        "        self.x_test = pad_sequences(self.x_test, maxlen=max_len)"
      ]
    },
    {
      "cell_type": "markdown",
      "metadata": {},
      "source": [
        "# Training and Evaluation"
      ]
    },
    {
      "cell_type": "code",
      "execution_count": null,
      "metadata": {},
      "outputs": [],
      "source": [
        "class Machine():\n",
        "    def __init__(self, max_features=20000, max_len=80):\n",
        "        self.data = Data_IMDB(max_features, max_len)\n",
        "        self.model = LSTM_Model_OOP(max_features, max_len)\n",
        "\n",
        "    def run(self, epochs=3, batch_size=32):\n",
        "        self.model.fit(self.data.x_train, self.data.y_train, batch_size=batch_size, epochs=epochs, validation_data=(self.data.x_test, self.data.y_test))\n",
        "\n",
        "        score, acc = self.model.evaluate(self.data.x_test, self.data.y_test, batch_size=batch_size)\n",
        "        print(f'Testperformance: accuracy={acc}, loss={score}')"
      ]
    },
    {
      "cell_type": "markdown",
      "metadata": {
        "id": "2rJMDwQ8liws"
      },
      "source": [
        "# Usage"
      ]
    },
    {
      "cell_type": "code",
      "execution_count": null,
      "metadata": {
        "id": "7Gu08PCjljw7"
      },
      "outputs": [],
      "source": [
        "lstm = Machine()\n",
        "lstm.run()"
      ]
    }
  ],
  "metadata": {
    "colab": {
      "collapsed_sections": [],
      "name": "ANN.ipynb",
      "private_outputs": true,
      "provenance": []
    },
    "kernelspec": {
      "display_name": "Python 3.9.6 ('.venv': venv)",
      "language": "python",
      "name": "python3"
    },
    "language_info": {
      "codemirror_mode": {
        "name": "ipython",
        "version": 3
      },
      "file_extension": ".py",
      "mimetype": "text/x-python",
      "name": "python",
      "nbconvert_exporter": "python",
      "pygments_lexer": "ipython3",
      "version": "3.9.6"
    },
    "vscode": {
      "interpreter": {
        "hash": "27640c38ce2adddea55846e439bfdf3cf133fd1f7141848aed330a8836e8eaec"
      }
    }
  },
  "nbformat": 4,
  "nbformat_minor": 0
}
