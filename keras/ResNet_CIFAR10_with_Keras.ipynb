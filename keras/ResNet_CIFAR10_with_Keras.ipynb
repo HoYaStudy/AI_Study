{
  "nbformat": 4,
  "nbformat_minor": 0,
  "metadata": {
    "colab": {
      "name": "ResNet_CIFAR10_with_Keras.ipynb",
      "provenance": [],
      "private_outputs": true,
      "collapsed_sections": [
        "2sgPoN-szDzO",
        "m17rc0LgLL8_"
      ]
    },
    "kernelspec": {
      "name": "python3",
      "display_name": "Python 3"
    },
    "accelerator": "GPU"
  },
  "cells": [
    {
      "cell_type": "markdown",
      "metadata": {
        "id": "Uh7NnM7ZEb0D"
      },
      "source": [
        "# Import Module"
      ]
    },
    {
      "cell_type": "code",
      "metadata": {
        "id": "BPf5yaLfEScU"
      },
      "source": [
        "from keras.datasets import cifar10\n",
        "from keras.preprocessing.image import ImageDataGenerator\n",
        "from keras.models import Model\n",
        "from keras.layers import Conv2D, BatchNormalization, Activation, Add, Input, Dense, GlobalAveragePooling2D\n",
        "from keras.regularizers import l2\n",
        "from keras.optimizers import SGD\n",
        "from keras.callbacks import LearningRateScheduler\n",
        "from keras.utils import to_categorical\n",
        "import numpy as np\n",
        "import matplotlib.pyplot as plt\n",
        "%matplotlib inline"
      ],
      "execution_count": null,
      "outputs": []
    },
    {
      "cell_type": "markdown",
      "metadata": {
        "id": "2sgPoN-szDzO"
      },
      "source": [
        "# Input Dataset"
      ]
    },
    {
      "cell_type": "markdown",
      "metadata": {
        "id": "k3PTepjk8NK6"
      },
      "source": [
        "## Getting Dataset"
      ]
    },
    {
      "cell_type": "code",
      "metadata": {
        "id": "z5vye9H28Opm"
      },
      "source": [
        "(train_images, train_labels), (test_images, test_labels) = cifar10.load_data()"
      ],
      "execution_count": null,
      "outputs": []
    },
    {
      "cell_type": "markdown",
      "metadata": {
        "id": "0HJi5EQK9nz4"
      },
      "source": [
        "## Analyzing Dataset (Original)"
      ]
    },
    {
      "cell_type": "code",
      "metadata": {
        "id": "WqJeCtjZ9qDp"
      },
      "source": [
        "print(train_images.shape, train_labels.shape)\n",
        "print(test_images.shape, test_labels.shape)\n",
        "\n",
        "for i in range(5):\n",
        "    plt.subplot(1, 5, i + 1)\n",
        "    plt.imshow(train_images[i])\n",
        "    print(train_labels[i], end=\", \")\n",
        "plt.show()"
      ],
      "execution_count": null,
      "outputs": []
    },
    {
      "cell_type": "markdown",
      "metadata": {
        "id": "86wkocdkAFGt"
      },
      "source": [
        "## Preprocessing Dataset"
      ]
    },
    {
      "cell_type": "code",
      "metadata": {
        "id": "-sOwwsZhALpv"
      },
      "source": [
        "train_gen = ImageDataGenerator(featurewise_center=True, featurewise_std_normalization=True, width_shift_range=0.125, height_shift_range=0.125, horizontal_flip=True)\n",
        "test_gen = ImageDataGenerator(featurewise_center=True, featurewise_std_normalization=True)\n",
        "for data in (train_gen, test_gen):\n",
        "    data.fit(train_images)\n",
        "\n",
        "train_labels = to_categorical(train_labels, 10)\n",
        "test_labels = to_categorical(test_labels, 10)"
      ],
      "execution_count": null,
      "outputs": []
    },
    {
      "cell_type": "markdown",
      "metadata": {
        "id": "cu9js9-ZAvRt"
      },
      "source": [
        "## Analyzing Dataset (Normalized)"
      ]
    },
    {
      "cell_type": "code",
      "metadata": {
        "id": "ZfpERam3A09q"
      },
      "source": [
        "print(train_images.shape, train_labels.shape)\n",
        "print(test_images.shape, test_labels.shape)\n",
        "\n",
        "for i in range(5):\n",
        "    plt.subplot(1, 5, i + 1)\n",
        "    plt.imshow(train_images[i])\n",
        "    print(train_labels[i])\n",
        "plt.show()"
      ],
      "execution_count": null,
      "outputs": []
    },
    {
      "cell_type": "markdown",
      "metadata": {
        "id": "m17rc0LgLL8_"
      },
      "source": [
        "# Model"
      ]
    },
    {
      "cell_type": "markdown",
      "metadata": {
        "id": "MqLtbVcBLNfD"
      },
      "source": [
        "## Generating Model"
      ]
    },
    {
      "cell_type": "code",
      "metadata": {
        "id": "RZ2k6GemLPp7"
      },
      "source": [
        "# Convolutional Layer\n",
        "def conv(filters, kernel_size, strides=1):\n",
        "    return Conv2D(filters, kernel_size, strides=strides, padding='same', use_bias=False, kernel_initializer='he_normal', kernel_regularizer=l2(0.0001))\n",
        "\n",
        "# Residual Block\n",
        "def residual_block_a(filters, strides):\n",
        "    def f(x):\n",
        "        x = BatchNormalization()(x)\n",
        "        b = Activation('relu')(x)\n",
        "\n",
        "        x = conv(filters // 4 , 1, strides)(b)\n",
        "        x = BatchNormalization()(x)\n",
        "        x = Activation('relu')(x)\n",
        "\n",
        "        x = conv(filters // 4, 3)(x)\n",
        "        x = BatchNormalization()(x)\n",
        "        x = Activation('relu')(x)\n",
        "\n",
        "        x = conv(filters, 1)(x)\n",
        "\n",
        "        sc = conv(filters, 1, strides)(b)\n",
        "\n",
        "        return Add()([x, sc])\n",
        "    return f\n",
        "\n",
        "def residual_block_b(filters):\n",
        "    def f(x):\n",
        "        sc = x\n",
        "\n",
        "        x = BatchNormalization()(x)\n",
        "        x = Activation('relu')(x)\n",
        "\n",
        "        x = conv(filters // 4, 1)(x)\n",
        "        x = BatchNormalization()(x)\n",
        "        x = Activation('relu')(x)\n",
        "\n",
        "        x = conv(filters // 4, 3)(x)\n",
        "        x = BatchNormalization()(x)\n",
        "        x = Activation('relu')(x)\n",
        "\n",
        "        x = conv(filters, 1)(x)\n",
        "\n",
        "        return Add()([x, sc])\n",
        "    return f\n",
        "\n",
        "def residual_block(filters, strides, unit_size):\n",
        "    def f(x):\n",
        "        x = residual_block_a(filters, strides)(x)\n",
        "        for i in range(unit_size - 1):\n",
        "            x = residual_block_b(filters)(x)\n",
        "        return x\n",
        "    return f\n",
        "\n",
        "# Model\n",
        "## Input\n",
        "input = Input(shape=(32, 32, 3))\n",
        "\n",
        "## Extracting Feature\n",
        "x = conv(16, 3)(input)\n",
        "x = residual_block(64, 1, 18)(x)\n",
        "x = residual_block(128, 2, 18)(x)\n",
        "x = residual_block(256, 2, 18)(x)\n",
        "x = BatchNormalization()(x)\n",
        "x = Activation('relu')(x)\n",
        "x = GlobalAveragePooling2D()(x)\n",
        "\n",
        "## Classifying\n",
        "output = Dense(10, activation='softmax', kernel_regularizer=l2(0.0001))(x)\n",
        "\n",
        "model = Model(inputs=input, outputs=output)"
      ],
      "execution_count": null,
      "outputs": []
    },
    {
      "cell_type": "markdown",
      "metadata": {
        "id": "RiYfRBbIFRrh"
      },
      "source": [
        "## Compiling Model"
      ]
    },
    {
      "cell_type": "code",
      "metadata": {
        "id": "KwHhUy6kFToS"
      },
      "source": [
        "model.compile(loss='categorical_crossentropy', optimizer=SGD(momentum=0.9), metrics=['acc'])"
      ],
      "execution_count": null,
      "outputs": []
    },
    {
      "cell_type": "markdown",
      "metadata": {
        "id": "j-lLZR8zQ8Yy"
      },
      "source": [
        "# Training"
      ]
    },
    {
      "cell_type": "code",
      "metadata": {
        "id": "wBAgmsIaWPQa"
      },
      "source": [
        "def step_scheduler(epoch):\n",
        "    x = 0.1\n",
        "    if epoch >= 80: x = 0.01\n",
        "    if epoch >= 120: x = 0.001\n",
        "    return x\n",
        "\n",
        "lr_scheduler = LearningRateScheduler(step_scheduler)\n",
        "\n",
        "history = model.fit_generator(train_gen.flow(train_images, train_labels, batch_size=128), epochs=150, steps_per_epoch=train_images.shape[0] // 128, validation_data=test_gen.flow(test_images, test_labels, batch_size=128), validation_steps=test_images.shape[0] // 128, callbacks=[lr_scheduler])"
      ],
      "execution_count": null,
      "outputs": []
    },
    {
      "cell_type": "code",
      "metadata": {
        "id": "42ucUEO6J4K8"
      },
      "source": [
        "from keras.models import load_model\n",
        "\n",
        "model.save('ResNet_CIFAR10.h5')\n",
        "model = load_model('ResNet_CIFAR10.h5')"
      ],
      "execution_count": null,
      "outputs": []
    },
    {
      "cell_type": "markdown",
      "metadata": {
        "id": "MljNxOrZKF3N"
      },
      "source": [
        "## Analyzing Training Result"
      ]
    },
    {
      "cell_type": "code",
      "metadata": {
        "id": "AhphKRGvKIrI"
      },
      "source": [
        "plt.plot(history.history['acc'], label='acc')\n",
        "plt.plot(history.history['val_acc'], label='val_acc')\n",
        "plt.ylabel('accuracy')\n",
        "plt.xlabel('epoch')\n",
        "plt.legend(loc='best')\n",
        "plt.show()"
      ],
      "execution_count": null,
      "outputs": []
    },
    {
      "cell_type": "markdown",
      "metadata": {
        "id": "T8WDk3d0LSDz"
      },
      "source": [
        "# Evaluation"
      ]
    },
    {
      "cell_type": "code",
      "metadata": {
        "id": "a4NQ0ZXMLWGO"
      },
      "source": [
        "test_loss, test_acc = model.evaluate_generator(test_gen.flow(test_images, test_labels, batch_size=128), steps=10)\n",
        "print('loss: {:.4f}\\nacc: {:.4f}'.format(test_loss, test_acc))"
      ],
      "execution_count": null,
      "outputs": []
    },
    {
      "cell_type": "markdown",
      "metadata": {
        "id": "RD4Rzm2zLzBl"
      },
      "source": [
        "# Prediction"
      ]
    },
    {
      "cell_type": "code",
      "metadata": {
        "id": "1KjZqdG_L0Is"
      },
      "source": [
        "test_predictions = model.predict_generator(test_gen.flow(test_images[:5], shuffle=False, batch_size=1), steps=10)\n",
        "test_predictions = np.argmax(test_predictions, axis=1)\n",
        "labels = ['airplane', 'automobile', 'bird', 'cat', 'deer', 'dog', 'frog', 'horse', 'ship', 'truck']\n",
        "\n",
        "for i in range(5):\n",
        "    plt.subplot(2, 5, i + 1)\n",
        "    plt.imshow(test_images[i])\n",
        "    print([labels[test_predictions[i]]], end=\", \")\n",
        "plt.show()"
      ],
      "execution_count": null,
      "outputs": []
    }
  ]
}