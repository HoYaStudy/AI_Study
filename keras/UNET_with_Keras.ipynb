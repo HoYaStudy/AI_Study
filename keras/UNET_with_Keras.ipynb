{
  "cells": [
    {
      "cell_type": "code",
      "execution_count": null,
      "metadata": {
        "id": "FQgYC3xDYleW"
      },
      "outputs": [],
      "source": [
        "from keras import backend, models\n",
        "from keras.layers import Input, Conv2D, MaxPooling2D, Dropout, Activation, UpSampling2D, BatchNormalization, Concatenate\n",
        "from keras.datasets import cifar10\n",
        "import numpy as np\n",
        "import matplotlib.pyplot as plt"
      ]
    },
    {
      "cell_type": "markdown",
      "metadata": {
        "id": "Cj1yTjYRjE3f"
      },
      "source": [
        "# 분산 방식 Modeling - OOP"
      ]
    },
    {
      "cell_type": "code",
      "execution_count": null,
      "metadata": {
        "id": "tnmafOFdjIGx"
      },
      "outputs": [],
      "source": [
        "class UNET_Model_OOP(models.Model):\n",
        "    def __init__(self, org_shape, n_ch):\n",
        "        ic = 3 if backend.image_data_format() == 'channels_last' else 1\n",
        "\n",
        "        def conv(x, n_f, mp_flag=True):\n",
        "            x = MaxPooling2D((2, 2), padding='same')(x) if mp_flag else x\n",
        "            x = Conv2D(n_f, (3, 3), padding='same')(x)\n",
        "            x = BatchNormalization()(x)\n",
        "            x = Activation('tanh')(x)\n",
        "            x = Dropout(0.05)(x)\n",
        "            x = Conv2D(n_f, (3, 3), padding='same')(x)\n",
        "            x = BatchNormalization()(x)\n",
        "            x = Activation('tanh')(x)\n",
        "            return x\n",
        "\n",
        "        def deconv_unet(x, e, n_f):\n",
        "            x = UpSampling2D((2, 2))(x)\n",
        "            x = Concatenate(axis=ic)([x, e])\n",
        "            x = Conv2D(n_f, (3, 3), padding='same')(x)\n",
        "            x = BatchNormalization()(x)\n",
        "            x = Activation('tanh')(x)\n",
        "            x = Conv2D(n_f, (3, 3), padding='same')(x)\n",
        "            x = BatchNormalization()(x)\n",
        "            x = Activation('tanh')(x)\n",
        "            return x\n",
        "\n",
        "        original = Input(shape=org_shape)\n",
        "\n",
        "        c1 = conv(original, 16, mp_flag=False)\n",
        "        c2 = conv(c1, 32)\n",
        "\n",
        "        encoded = conv(c2, 64)\n",
        "\n",
        "        x = deconv_unet(encoded, c2, 32)\n",
        "        x = deconv_unet(x, c1, 16)\n",
        "\n",
        "        decoded = Conv2D(n_ch, (3, 3), activation='sigmoid', padding='same')(x)\n",
        "\n",
        "        super().__init__(original, decoded)\n",
        "\n",
        "        self.compile(optimizer='adadelta', loss='mse')"
      ]
    },
    {
      "cell_type": "markdown",
      "metadata": {
        "id": "XYyAHNT3ivpX"
      },
      "source": [
        "# Data Generator"
      ]
    },
    {
      "cell_type": "code",
      "execution_count": null,
      "metadata": {
        "id": "PqEMy900iu3u"
      },
      "outputs": [],
      "source": [
        "class DataGenerator:\n",
        "    def __init__(self, in_ch=None):\n",
        "        (x_train, y_train), (x_test, y_test) = cifar10.load_data()\n",
        "\n",
        "        if x_train.ndim == 4:\n",
        "            if backend.image_data_format() == 'channels_first':\n",
        "                n_ch, img_rows, img_cols = x_train.shape[1:]\n",
        "            else:\n",
        "                img_rows, img_cols, n_ch = x_train.shape[1:]\n",
        "        else:\n",
        "            img_rows, img_cols = x_train.shape[1:]\n",
        "            n_ch = 1\n",
        "        in_ch = n_ch if in_ch is None else in_ch\n",
        "\n",
        "        x_train = x_train.astype('float32')\n",
        "        x_test = x_test.astype('float32')\n",
        "        x_train /= 255\n",
        "        x_test /= 255\n",
        "\n",
        "        def rgb2gray(x, fmt):\n",
        "            if fmt == 'channels_first':\n",
        "                r = x[:, 0:1]\n",
        "                g = x[:, 1:2]\n",
        "                b = x[:, 2:3]\n",
        "            else:\n",
        "                r = x[..., 0:1]\n",
        "                g = x[..., 1:2]\n",
        "                b = x[..., 2:3]\n",
        "            return 0.299 * r + 0.587 * g + 0.114 * b\n",
        "\n",
        "        def rgb2rg(x_train_out, x_test_out, fmt):\n",
        "            if fmt == 'channels_first':\n",
        "                x_train_in = x_train_out[:, :2]\n",
        "                x_test_in = x_test_out[:, :2]\n",
        "            else:\n",
        "                x_train_in = x_train_out[..., :2]\n",
        "                x_test_in = x_test_out[..., :2]\n",
        "            return x_train_in, x_test_in\n",
        "\n",
        "        if backend.image_data_format() == 'channels_first':\n",
        "            x_train_out = x_train.reshape(x_train.shape[0], n_ch, img_rows, img_cols)\n",
        "            x_test_out = x_test.reshape(x_test.shape[0], n_ch, img_rows, img_cols)\n",
        "            input_shape = (in_ch, img_rows, img_cols)\n",
        "        else:\n",
        "            x_train_out = x_train.reshape(x_train.shape[0], img_rows, img_cols, n_ch)\n",
        "            x_test_out = x_test.reshape(x_test.shape[0], img_rows, img_cols, n_ch)\n",
        "            input_shape = (img_rows, img_cols, in_ch)\n",
        "\n",
        "        if in_ch == 1 and n_ch == 3:\n",
        "            x_train_in = rgb2gray(x_train_out, backend.image_data_format())\n",
        "            x_test_in = rgb2gray(x_test_out, backend.image_data_format())\n",
        "        elif in_ch == 2 and n_ch == 3:\n",
        "            x_train_in, x_test_in = rgb2rg(x_train_out, x_test_out, backend.image_data_format())\n",
        "        else:\n",
        "            x_train_in = x_train_out\n",
        "            x_test_in = x_test_out\n",
        "\n",
        "        self.input_shape = input_shape\n",
        "        self.x_train_in, self.x_train_out = x_train_in, x_train_out\n",
        "        self.x_test_in, self.x_test_out = x_test_in, x_test_out\n",
        "        self.n_ch = n_ch\n",
        "        self.in_ch = in_ch"
      ]
    },
    {
      "cell_type": "markdown",
      "metadata": {},
      "source": [
        "# Draw Image"
      ]
    },
    {
      "cell_type": "code",
      "execution_count": null,
      "metadata": {},
      "outputs": [],
      "source": [
        "def show_images(data, unet):\n",
        "    x_test_in = data.x_test_in\n",
        "    x_test_out = data.x_test_out\n",
        "    decoded_imgs = unet.predict(x_test_in)\n",
        "    \n",
        "    if backend.image_data_format() == 'channels_first':\n",
        "        x_test_out = x_test_out.swapaxes(1, 3).swapaxes(1, 2)\n",
        "        decoded_imgs = decoded_imgs.swapaxes(1, 3).swapaxes(1, 2)\n",
        "        if data.in_ch == 1:\n",
        "            x_test_in = x_test_in[:, 0, ...]\n",
        "        elif data.in_ch == 2:\n",
        "            x_test_in_tmp = np.zeros_like(x_test_out)\n",
        "            x_test_in = x_test_in.swapaxes(1, 3).swapaxes(1, 2)\n",
        "            x_test_in_tmp[..., :2] = x_test_in\n",
        "            x_test_in = x_test_in_tmp\n",
        "        else:\n",
        "            x_test_in = x_test_in.swapaxes(1, 3).swapaxes(1, 2)\n",
        "    else:\n",
        "        if data.in_ch == 1:\n",
        "            x_test_in = x_test_in[..., 0]\n",
        "        elif data.in_ch == 2:\n",
        "            x_test_in_tmp = np.zeros_like(x_test_out)\n",
        "            x_test_in_tmp[..., :2] = x_test_in\n",
        "            x_test_in = x_test_in_tmp\n",
        "\n",
        "    n = 10\n",
        "    plt.figure(figsize=(20, 6))\n",
        "    for i in range(n):\n",
        "        ax = plt.subplot(3, n, i + 1)\n",
        "        plt.imshow(x_test_in[i])\n",
        "        ax.get_xaxis().set_visible(False)\n",
        "        ax.get_yaxis().set_visible(False)\n",
        "\n",
        "        ax = plt.subplot(3, n, i + 1 + n)\n",
        "        plt.imshow(decoded_imgs[i])\n",
        "        ax.get_xaxis().set_visible(False)\n",
        "        ax.get_yaxis().set_visible(False)\n",
        "\n",
        "        ax = plt.subplot(3, n, i + 1 + n * 2)\n",
        "        plt.imshow(x_test_out[i])\n",
        "        ax.get_xaxis().set_visible(False)\n",
        "        ax.get_yaxis().set_visible(False)\n",
        "\n",
        "def plot_loss(history, title=None):\n",
        "    if not isinstance(history, dict):\n",
        "        history = history.history\n",
        "\n",
        "    plt.plot(history['loss'])\n",
        "    plt.plot(history['val_loss'])\n",
        "    if title is not None:\n",
        "        plt.title(title)\n",
        "    plt.xlabel('Epoch')\n",
        "    plt.ylabel('Loss')\n",
        "    plt.legend(['Training', 'Validation'], loc=0)"
      ]
    },
    {
      "cell_type": "markdown",
      "metadata": {
        "id": "2rJMDwQ8liws"
      },
      "source": [
        "# Usage"
      ]
    },
    {
      "cell_type": "code",
      "execution_count": null,
      "metadata": {
        "id": "7Gu08PCjljw7"
      },
      "outputs": [],
      "source": [
        "data = DataGenerator(in_ch=1)\n",
        "unet = UNET_Model_OOP(data.input_shape, data.n_ch)\n",
        "history = unet.fit(data.x_train_in, data.x_train_out, epochs=10, batch_size=128, shuffle=True, validation_split=0.2)\n",
        "plot_loss(history)\n",
        "show_images(data, unet)"
      ]
    }
  ],
  "metadata": {
    "colab": {
      "collapsed_sections": [],
      "name": "ANN.ipynb",
      "private_outputs": true,
      "provenance": []
    },
    "kernelspec": {
      "display_name": "Python 3.9.6 ('.venv': venv)",
      "language": "python",
      "name": "python3"
    },
    "language_info": {
      "codemirror_mode": {
        "name": "ipython",
        "version": 3
      },
      "file_extension": ".py",
      "mimetype": "text/x-python",
      "name": "python",
      "nbconvert_exporter": "python",
      "pygments_lexer": "ipython3",
      "version": "3.9.6"
    },
    "vscode": {
      "interpreter": {
        "hash": "27640c38ce2adddea55846e439bfdf3cf133fd1f7141848aed330a8836e8eaec"
      }
    }
  },
  "nbformat": 4,
  "nbformat_minor": 0
}
